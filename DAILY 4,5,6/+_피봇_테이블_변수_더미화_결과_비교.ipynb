{
  "nbformat": 4,
  "nbformat_minor": 0,
  "metadata": {
    "colab": {
      "name": "+ 피봇 테이블 변수 더미화 결과 비교",
      "provenance": [],
      "collapsed_sections": [],
      "mount_file_id": "1gpndZSCLh2_0235l6ZvlaysyMhdJN9lK",
      "authorship_tag": "ABX9TyPNCtn2qSKNTqbNE4eOBfbp",
      "include_colab_link": true
    },
    "kernelspec": {
      "name": "python3",
      "display_name": "Python 3"
    },
    "language_info": {
      "name": "python"
    }
  },
  "cells": [
    {
      "cell_type": "markdown",
      "metadata": {
        "id": "view-in-github",
        "colab_type": "text"
      },
      "source": [
        "<a href=\"https://colab.research.google.com/github/SangBeom-Hahn/Kdata_Campus_Daily_Study/blob/master/%2B_%ED%94%BC%EB%B4%87_%ED%85%8C%EC%9D%B4%EB%B8%94_%EB%B3%80%EC%88%98_%EB%8D%94%EB%AF%B8%ED%99%94_%EA%B2%B0%EA%B3%BC_%EB%B9%84%EA%B5%90.ipynb\" target=\"_parent\"><img src=\"https://colab.research.google.com/assets/colab-badge.svg\" alt=\"Open In Colab\"/></a>"
      ]
    },
    {
      "cell_type": "code",
      "execution_count": null,
      "metadata": {
        "id": "RyI8Jkh1ljIs"
      },
      "outputs": [],
      "source": [
        "import pandas as pd\n",
        "import numpy as np\n",
        "import seaborn as sns\n",
        "%matplotlib inline\n",
        "import matplotlib.pyplot as plt\n",
        "from sklearn import preprocessing\n",
        "\n",
        "import numpy as np\n",
        "import pandas as pd\n",
        "import seaborn as sns\n",
        "import matplotlib.pyplot as plt\n",
        "import warnings, random\n",
        "warnings.filterwarnings(action='ignore')\n",
        "\n",
        "from sklearn.metrics import log_loss\n",
        "from sklearn.preprocessing import StandardScaler\n",
        "from sklearn.model_selection import StratifiedKFold\n",
        "\n",
        "from sklearn.cluster import KMeans\n",
        "\n",
        "\n",
        "import lightgbm as lgb\n",
        "from sklearn.metrics import accuracy_score\n",
        "from sklearn.model_selection import train_test_split"
      ]
    },
    {
      "cell_type": "markdown",
      "source": [
        "# 계절별로 더미화"
      ],
      "metadata": {
        "id": "Vqtqyda47s6E"
      }
    },
    {
      "cell_type": "code",
      "source": [
        "df = pd.read_excel(\"/content/drive/MyDrive/프로그래밍 언어 공부 자료/인공지능/2022 데청캠/강의 자료/6일차/2022 데이터 청년 캠퍼스 6일차 과제(신규식, 한상범)/456일차 PL/데이터/SolarPv(계절별) - 복사본.xlsx\")"
      ],
      "metadata": {
        "id": "oBhM0DkO6qFl"
      },
      "execution_count": null,
      "outputs": []
    },
    {
      "cell_type": "code",
      "source": [
        "df"
      ],
      "metadata": {
        "colab": {
          "base_uri": "https://localhost:8080/",
          "height": 424
        },
        "id": "nZ_6SFKb7n_z",
        "outputId": "4f7cee94-c184-4dcd-ffd7-496cc2735a17"
      },
      "execution_count": null,
      "outputs": [
        {
          "output_type": "execute_result",
          "data": {
            "text/plain": [
              "     Date  Generatedpower  AveragePM10  Averagecloud  Hightemp  \\\n",
              "0      겨울     2230.406983    62.470588      0.000000       8.6   \n",
              "1      겨울     2326.791016    44.529412      2.411765       8.1   \n",
              "2      겨울     2477.729004    38.882353      0.352941      10.8   \n",
              "3      겨울      241.446289    37.176471      7.352941       6.7   \n",
              "4      겨울     2768.182617    35.823529      2.411765       3.5   \n",
              "...   ...             ...          ...           ...       ...   \n",
              "1350   가을     2878.000000    20.176471      1.588235      23.0   \n",
              "1351   가을     2937.250000    24.000000      0.117647      22.3   \n",
              "1352   가을     2693.000000    25.000000      3.058824      23.0   \n",
              "1353   가을     2639.250000    19.058824      2.176471      23.3   \n",
              "1354   가을     2633.250000    21.117647      1.529412      22.1   \n",
              "\n",
              "     WeatherForecast  HumidityForecast  Rain      Sight  Sunlight  \n",
              "0                 맑음         51.000000   0.0  10.357143   13.5526  \n",
              "1                 맑음         44.571429   0.0  14.714286   13.1526  \n",
              "2                 맑음         37.000000   0.0  10.671429   13.6300  \n",
              "3                 흐림         99.000000   4.0   9.385714    2.4199  \n",
              "4                 맑음         54.571429   0.0  13.371429   12.2054  \n",
              "...              ...               ...   ...        ...       ...  \n",
              "1350              맑음         40.285714   0.0  13.285714   17.6437  \n",
              "1351              맑음         41.571429   0.0  14.000000   20.1938  \n",
              "1352              구름         41.000000   0.0  14.457143   19.6520  \n",
              "1353              맑음         47.285714   0.0  14.142857   17.0335  \n",
              "1354              맑음         47.571429   0.0  13.500000   15.9786  \n",
              "\n",
              "[1355 rows x 10 columns]"
            ],
            "text/html": [
              "\n",
              "  <div id=\"df-442cd863-f093-441a-969a-6bd15aeca043\">\n",
              "    <div class=\"colab-df-container\">\n",
              "      <div>\n",
              "<style scoped>\n",
              "    .dataframe tbody tr th:only-of-type {\n",
              "        vertical-align: middle;\n",
              "    }\n",
              "\n",
              "    .dataframe tbody tr th {\n",
              "        vertical-align: top;\n",
              "    }\n",
              "\n",
              "    .dataframe thead th {\n",
              "        text-align: right;\n",
              "    }\n",
              "</style>\n",
              "<table border=\"1\" class=\"dataframe\">\n",
              "  <thead>\n",
              "    <tr style=\"text-align: right;\">\n",
              "      <th></th>\n",
              "      <th>Date</th>\n",
              "      <th>Generatedpower</th>\n",
              "      <th>AveragePM10</th>\n",
              "      <th>Averagecloud</th>\n",
              "      <th>Hightemp</th>\n",
              "      <th>WeatherForecast</th>\n",
              "      <th>HumidityForecast</th>\n",
              "      <th>Rain</th>\n",
              "      <th>Sight</th>\n",
              "      <th>Sunlight</th>\n",
              "    </tr>\n",
              "  </thead>\n",
              "  <tbody>\n",
              "    <tr>\n",
              "      <th>0</th>\n",
              "      <td>겨울</td>\n",
              "      <td>2230.406983</td>\n",
              "      <td>62.470588</td>\n",
              "      <td>0.000000</td>\n",
              "      <td>8.6</td>\n",
              "      <td>맑음</td>\n",
              "      <td>51.000000</td>\n",
              "      <td>0.0</td>\n",
              "      <td>10.357143</td>\n",
              "      <td>13.5526</td>\n",
              "    </tr>\n",
              "    <tr>\n",
              "      <th>1</th>\n",
              "      <td>겨울</td>\n",
              "      <td>2326.791016</td>\n",
              "      <td>44.529412</td>\n",
              "      <td>2.411765</td>\n",
              "      <td>8.1</td>\n",
              "      <td>맑음</td>\n",
              "      <td>44.571429</td>\n",
              "      <td>0.0</td>\n",
              "      <td>14.714286</td>\n",
              "      <td>13.1526</td>\n",
              "    </tr>\n",
              "    <tr>\n",
              "      <th>2</th>\n",
              "      <td>겨울</td>\n",
              "      <td>2477.729004</td>\n",
              "      <td>38.882353</td>\n",
              "      <td>0.352941</td>\n",
              "      <td>10.8</td>\n",
              "      <td>맑음</td>\n",
              "      <td>37.000000</td>\n",
              "      <td>0.0</td>\n",
              "      <td>10.671429</td>\n",
              "      <td>13.6300</td>\n",
              "    </tr>\n",
              "    <tr>\n",
              "      <th>3</th>\n",
              "      <td>겨울</td>\n",
              "      <td>241.446289</td>\n",
              "      <td>37.176471</td>\n",
              "      <td>7.352941</td>\n",
              "      <td>6.7</td>\n",
              "      <td>흐림</td>\n",
              "      <td>99.000000</td>\n",
              "      <td>4.0</td>\n",
              "      <td>9.385714</td>\n",
              "      <td>2.4199</td>\n",
              "    </tr>\n",
              "    <tr>\n",
              "      <th>4</th>\n",
              "      <td>겨울</td>\n",
              "      <td>2768.182617</td>\n",
              "      <td>35.823529</td>\n",
              "      <td>2.411765</td>\n",
              "      <td>3.5</td>\n",
              "      <td>맑음</td>\n",
              "      <td>54.571429</td>\n",
              "      <td>0.0</td>\n",
              "      <td>13.371429</td>\n",
              "      <td>12.2054</td>\n",
              "    </tr>\n",
              "    <tr>\n",
              "      <th>...</th>\n",
              "      <td>...</td>\n",
              "      <td>...</td>\n",
              "      <td>...</td>\n",
              "      <td>...</td>\n",
              "      <td>...</td>\n",
              "      <td>...</td>\n",
              "      <td>...</td>\n",
              "      <td>...</td>\n",
              "      <td>...</td>\n",
              "      <td>...</td>\n",
              "    </tr>\n",
              "    <tr>\n",
              "      <th>1350</th>\n",
              "      <td>가을</td>\n",
              "      <td>2878.000000</td>\n",
              "      <td>20.176471</td>\n",
              "      <td>1.588235</td>\n",
              "      <td>23.0</td>\n",
              "      <td>맑음</td>\n",
              "      <td>40.285714</td>\n",
              "      <td>0.0</td>\n",
              "      <td>13.285714</td>\n",
              "      <td>17.6437</td>\n",
              "    </tr>\n",
              "    <tr>\n",
              "      <th>1351</th>\n",
              "      <td>가을</td>\n",
              "      <td>2937.250000</td>\n",
              "      <td>24.000000</td>\n",
              "      <td>0.117647</td>\n",
              "      <td>22.3</td>\n",
              "      <td>맑음</td>\n",
              "      <td>41.571429</td>\n",
              "      <td>0.0</td>\n",
              "      <td>14.000000</td>\n",
              "      <td>20.1938</td>\n",
              "    </tr>\n",
              "    <tr>\n",
              "      <th>1352</th>\n",
              "      <td>가을</td>\n",
              "      <td>2693.000000</td>\n",
              "      <td>25.000000</td>\n",
              "      <td>3.058824</td>\n",
              "      <td>23.0</td>\n",
              "      <td>구름</td>\n",
              "      <td>41.000000</td>\n",
              "      <td>0.0</td>\n",
              "      <td>14.457143</td>\n",
              "      <td>19.6520</td>\n",
              "    </tr>\n",
              "    <tr>\n",
              "      <th>1353</th>\n",
              "      <td>가을</td>\n",
              "      <td>2639.250000</td>\n",
              "      <td>19.058824</td>\n",
              "      <td>2.176471</td>\n",
              "      <td>23.3</td>\n",
              "      <td>맑음</td>\n",
              "      <td>47.285714</td>\n",
              "      <td>0.0</td>\n",
              "      <td>14.142857</td>\n",
              "      <td>17.0335</td>\n",
              "    </tr>\n",
              "    <tr>\n",
              "      <th>1354</th>\n",
              "      <td>가을</td>\n",
              "      <td>2633.250000</td>\n",
              "      <td>21.117647</td>\n",
              "      <td>1.529412</td>\n",
              "      <td>22.1</td>\n",
              "      <td>맑음</td>\n",
              "      <td>47.571429</td>\n",
              "      <td>0.0</td>\n",
              "      <td>13.500000</td>\n",
              "      <td>15.9786</td>\n",
              "    </tr>\n",
              "  </tbody>\n",
              "</table>\n",
              "<p>1355 rows × 10 columns</p>\n",
              "</div>\n",
              "      <button class=\"colab-df-convert\" onclick=\"convertToInteractive('df-442cd863-f093-441a-969a-6bd15aeca043')\"\n",
              "              title=\"Convert this dataframe to an interactive table.\"\n",
              "              style=\"display:none;\">\n",
              "        \n",
              "  <svg xmlns=\"http://www.w3.org/2000/svg\" height=\"24px\"viewBox=\"0 0 24 24\"\n",
              "       width=\"24px\">\n",
              "    <path d=\"M0 0h24v24H0V0z\" fill=\"none\"/>\n",
              "    <path d=\"M18.56 5.44l.94 2.06.94-2.06 2.06-.94-2.06-.94-.94-2.06-.94 2.06-2.06.94zm-11 1L8.5 8.5l.94-2.06 2.06-.94-2.06-.94L8.5 2.5l-.94 2.06-2.06.94zm10 10l.94 2.06.94-2.06 2.06-.94-2.06-.94-.94-2.06-.94 2.06-2.06.94z\"/><path d=\"M17.41 7.96l-1.37-1.37c-.4-.4-.92-.59-1.43-.59-.52 0-1.04.2-1.43.59L10.3 9.45l-7.72 7.72c-.78.78-.78 2.05 0 2.83L4 21.41c.39.39.9.59 1.41.59.51 0 1.02-.2 1.41-.59l7.78-7.78 2.81-2.81c.8-.78.8-2.07 0-2.86zM5.41 20L4 18.59l7.72-7.72 1.47 1.35L5.41 20z\"/>\n",
              "  </svg>\n",
              "      </button>\n",
              "      \n",
              "  <style>\n",
              "    .colab-df-container {\n",
              "      display:flex;\n",
              "      flex-wrap:wrap;\n",
              "      gap: 12px;\n",
              "    }\n",
              "\n",
              "    .colab-df-convert {\n",
              "      background-color: #E8F0FE;\n",
              "      border: none;\n",
              "      border-radius: 50%;\n",
              "      cursor: pointer;\n",
              "      display: none;\n",
              "      fill: #1967D2;\n",
              "      height: 32px;\n",
              "      padding: 0 0 0 0;\n",
              "      width: 32px;\n",
              "    }\n",
              "\n",
              "    .colab-df-convert:hover {\n",
              "      background-color: #E2EBFA;\n",
              "      box-shadow: 0px 1px 2px rgba(60, 64, 67, 0.3), 0px 1px 3px 1px rgba(60, 64, 67, 0.15);\n",
              "      fill: #174EA6;\n",
              "    }\n",
              "\n",
              "    [theme=dark] .colab-df-convert {\n",
              "      background-color: #3B4455;\n",
              "      fill: #D2E3FC;\n",
              "    }\n",
              "\n",
              "    [theme=dark] .colab-df-convert:hover {\n",
              "      background-color: #434B5C;\n",
              "      box-shadow: 0px 1px 3px 1px rgba(0, 0, 0, 0.15);\n",
              "      filter: drop-shadow(0px 1px 2px rgba(0, 0, 0, 0.3));\n",
              "      fill: #FFFFFF;\n",
              "    }\n",
              "  </style>\n",
              "\n",
              "      <script>\n",
              "        const buttonEl =\n",
              "          document.querySelector('#df-442cd863-f093-441a-969a-6bd15aeca043 button.colab-df-convert');\n",
              "        buttonEl.style.display =\n",
              "          google.colab.kernel.accessAllowed ? 'block' : 'none';\n",
              "\n",
              "        async function convertToInteractive(key) {\n",
              "          const element = document.querySelector('#df-442cd863-f093-441a-969a-6bd15aeca043');\n",
              "          const dataTable =\n",
              "            await google.colab.kernel.invokeFunction('convertToInteractive',\n",
              "                                                     [key], {});\n",
              "          if (!dataTable) return;\n",
              "\n",
              "          const docLinkHtml = 'Like what you see? Visit the ' +\n",
              "            '<a target=\"_blank\" href=https://colab.research.google.com/notebooks/data_table.ipynb>data table notebook</a>'\n",
              "            + ' to learn more about interactive tables.';\n",
              "          element.innerHTML = '';\n",
              "          dataTable['output_type'] = 'display_data';\n",
              "          await google.colab.output.renderOutput(dataTable, element);\n",
              "          const docLink = document.createElement('div');\n",
              "          docLink.innerHTML = docLinkHtml;\n",
              "          element.appendChild(docLink);\n",
              "        }\n",
              "      </script>\n",
              "    </div>\n",
              "  </div>\n",
              "  "
            ]
          },
          "metadata": {},
          "execution_count": 3
        }
      ]
    },
    {
      "cell_type": "code",
      "source": [
        "# 기본 전처리에 해당하는 전처리 1), 2)\n",
        "df.at[df[\"Rain\"] > 0, \"Rain\"] = 1\n",
        "df.at[df[\"AveragePM10\"] == -1, \"AveragePM10\"] = 0"
      ],
      "metadata": {
        "id": "X4pCRUIc6sln"
      },
      "execution_count": null,
      "outputs": []
    },
    {
      "cell_type": "code",
      "source": [
        "# 4)\n",
        "df_Scaled = df.loc[:, [\"AveragePM10\", \"Averagecloud\", \"Sight\"]]\n",
        "feature = ['AveragePM10', 'Averagecloud', 'Sight']\n",
        "\n",
        "scaler = StandardScaler()\n",
        "scaler.fit(df_Scaled)\n",
        "df_Scaled_Result = scaler.transform(df_Scaled)\n",
        "scaled_Result_Df = pd.DataFrame(df_Scaled_Result, columns = feature)\n",
        "df_Main = df.drop(columns=['AveragePM10', 'Averagecloud', 'Sight'], axis = 1)\n",
        "df_Total = pd.concat([df_Main, scaled_Result_Df], axis = 1)"
      ],
      "metadata": {
        "id": "Ff9b167E6t9-"
      },
      "execution_count": null,
      "outputs": []
    },
    {
      "cell_type": "code",
      "source": [
        "# + 날씨\n",
        "df_Total = pd.get_dummies(df_Total, columns = ['WeatherForecast', \"Date\"])"
      ],
      "metadata": {
        "id": "hIHckHIf6vls"
      },
      "execution_count": null,
      "outputs": []
    },
    {
      "cell_type": "code",
      "source": [
        "# 운량이 다중공선성이 높음 -> 삭제\n",
        "sns.heatmap(df_Total.corr())"
      ],
      "metadata": {
        "colab": {
          "base_uri": "https://localhost:8080/",
          "height": 378
        },
        "id": "-jQ5hvr16yZ7",
        "outputId": "f3a1f133-e610-4ccf-cb15-2d31bdac8b64"
      },
      "execution_count": null,
      "outputs": [
        {
          "output_type": "execute_result",
          "data": {
            "text/plain": [
              "<matplotlib.axes._subplots.AxesSubplot at 0x7fa16f969610>"
            ]
          },
          "metadata": {},
          "execution_count": 7
        },
        {
          "output_type": "display_data",
          "data": {
            "text/plain": [
              "<Figure size 432x288 with 2 Axes>"
            ],
            "image/png": "[encoded data removed]"
          },
          "metadata": {
            "needs_background": "light"
          }
        }
      ]
    },
    {
      "cell_type": "code",
      "source": [
        "df_Total.drop(\"Averagecloud\", axis = 1, inplace=True)"
      ],
      "metadata": {
        "id": "ZwFK2UxU6zsN"
      },
      "execution_count": null,
      "outputs": []
    },
    {
      "cell_type": "code",
      "source": [
        "X = df_Total.drop([\"Generatedpower\"], axis=1)\n",
        "y = df_Total[\"Generatedpower\"]\n",
        "X_train, X_valid, y_train, y_valid = train_test_split(X, y, test_size = 0.2, random_state = 34)"
      ],
      "metadata": {
        "id": "yyQCjNmh60-V"
      },
      "execution_count": null,
      "outputs": []
    },
    {
      "cell_type": "code",
      "source": [
        "from lightgbm import LGBMRegressor\n",
        "\n",
        "lgbm_model = LGBMRegressor()\n",
        "lgbm_model.fit(X_train, y_train,verbose=True)\n",
        "\n",
        "score = lgbm_model.score(X_valid, y_valid)\n",
        "print(score)"
      ],
      "metadata": {
        "colab": {
          "base_uri": "https://localhost:8080/"
        },
        "id": "YlgXiIZL80bD",
        "outputId": "69a0778a-ee31-42ee-fc79-50eb3534bd78"
      },
      "execution_count": null,
      "outputs": [
        {
          "output_type": "stream",
          "name": "stdout",
          "text": [
            "0.8170099450678328\n"
          ]
        }
      ]
    },
    {
      "cell_type": "code",
      "source": [
        "# 점수가 떨어짐"
      ],
      "metadata": {
        "id": "RcAUJf1y82Qu"
      },
      "execution_count": null,
      "outputs": []
    },
    {
      "cell_type": "code",
      "source": [
        ""
      ],
      "metadata": {
        "id": "M2bPv1Wk9B7E"
      },
      "execution_count": null,
      "outputs": []
    },
    {
      "cell_type": "code",
      "source": [
        ""
      ],
      "metadata": {
        "id": "UuPSwrzx9B4z"
      },
      "execution_count": null,
      "outputs": []
    },
    {
      "cell_type": "code",
      "source": [
        ""
      ],
      "metadata": {
        "id": "4kOaFkyh9B2w"
      },
      "execution_count": null,
      "outputs": []
    },
    {
      "cell_type": "markdown",
      "source": [
        "# 구름 별로 더미화"
      ],
      "metadata": {
        "id": "sYY2U6jjFM6l"
      }
    },
    {
      "cell_type": "code",
      "source": [
        "df = pd.read_excel(\"/content/drive/MyDrive/프로그래밍 언어 공부 자료/인공지능/2022 데청캠/강의 자료/6일차/2022 데이터 청년 캠퍼스 6일차 과제(신규식, 한상범)/456일차 PL/데이터/SolarPv(구름) - 복사본.xlsx\")"
      ],
      "metadata": {
        "id": "k02obxoG9B0y"
      },
      "execution_count": null,
      "outputs": []
    },
    {
      "cell_type": "code",
      "source": [
        "df"
      ],
      "metadata": {
        "colab": {
          "base_uri": "https://localhost:8080/",
          "height": 424
        },
        "id": "z3yzm2fH9LgL",
        "outputId": "aa0bcb78-1ba6-4b4a-fcaf-a7aca297ad9a"
      },
      "execution_count": null,
      "outputs": [
        {
          "output_type": "execute_result",
          "data": {
            "text/plain": [
              "            Date  Generatedpower  AveragePM10 Averagecloud  Hightemp  \\\n",
              "0     2017-01-26     2230.406983    62.470588            A       8.6   \n",
              "1     2017-01-27     2326.791016    44.529412            B       8.1   \n",
              "2     2017-01-28     2477.729004    38.882353            B      10.8   \n",
              "3     2017-01-29      241.446289    37.176471            C       6.7   \n",
              "4     2017-01-30     2768.182617    35.823529            B       3.5   \n",
              "...          ...             ...          ...          ...       ...   \n",
              "1350  2020-10-07     2878.000000    20.176471            B      23.0   \n",
              "1351  2020-10-08     2937.250000    24.000000            B      22.3   \n",
              "1352  2020-10-09     2693.000000    25.000000            B      23.0   \n",
              "1353  2020-10-10     2639.250000    19.058824            B      23.3   \n",
              "1354  2020-10-11     2633.250000    21.117647            B      22.1   \n",
              "\n",
              "     WeatherForecast  HumidityForecast  Rain      Sight  Sunlight  \n",
              "0                 맑음         51.000000   0.0  10.357143   13.5526  \n",
              "1                 맑음         44.571429   0.0  14.714286   13.1526  \n",
              "2                 맑음         37.000000   0.0  10.671429   13.6300  \n",
              "3                 흐림         99.000000   4.0   9.385714    2.4199  \n",
              "4                 맑음         54.571429   0.0  13.371429   12.2054  \n",
              "...              ...               ...   ...        ...       ...  \n",
              "1350              맑음         40.285714   0.0  13.285714   17.6437  \n",
              "1351              맑음         41.571429   0.0  14.000000   20.1938  \n",
              "1352              구름         41.000000   0.0  14.457143   19.6520  \n",
              "1353              맑음         47.285714   0.0  14.142857   17.0335  \n",
              "1354              맑음         47.571429   0.0  13.500000   15.9786  \n",
              "\n",
              "[1355 rows x 10 columns]"
            ],
            "text/html": [
              "\n",
              "  <div id=\"df-54fc60ce-e3ff-4c4b-a536-e80945a17f23\">\n",
              "    <div class=\"colab-df-container\">\n",
              "      <div>\n",
              "<style scoped>\n",
              "    .dataframe tbody tr th:only-of-type {\n",
              "        vertical-align: middle;\n",
              "    }\n",
              "\n",
              "    .dataframe tbody tr th {\n",
              "        vertical-align: top;\n",
              "    }\n",
              "\n",
              "    .dataframe thead th {\n",
              "        text-align: right;\n",
              "    }\n",
              "</style>\n",
              "<table border=\"1\" class=\"dataframe\">\n",
              "  <thead>\n",
              "    <tr style=\"text-align: right;\">\n",
              "      <th></th>\n",
              "      <th>Date</th>\n",
              "      <th>Generatedpower</th>\n",
              "      <th>AveragePM10</th>\n",
              "      <th>Averagecloud</th>\n",
              "      <th>Hightemp</th>\n",
              "      <th>WeatherForecast</th>\n",
              "      <th>HumidityForecast</th>\n",
              "      <th>Rain</th>\n",
              "      <th>Sight</th>\n",
              "      <th>Sunlight</th>\n",
              "    </tr>\n",
              "  </thead>\n",
              "  <tbody>\n",
              "    <tr>\n",
              "      <th>0</th>\n",
              "      <td>2017-01-26</td>\n",
              "      <td>2230.406983</td>\n",
              "      <td>62.470588</td>\n",
              "      <td>A</td>\n",
              "      <td>8.6</td>\n",
              "      <td>맑음</td>\n",
              "      <td>51.000000</td>\n",
              "      <td>0.0</td>\n",
              "      <td>10.357143</td>\n",
              "      <td>13.5526</td>\n",
              "    </tr>\n",
              "    <tr>\n",
              "      <th>1</th>\n",
              "      <td>2017-01-27</td>\n",
              "      <td>2326.791016</td>\n",
              "      <td>44.529412</td>\n",
              "      <td>B</td>\n",
              "      <td>8.1</td>\n",
              "      <td>맑음</td>\n",
              "      <td>44.571429</td>\n",
              "      <td>0.0</td>\n",
              "      <td>14.714286</td>\n",
              "      <td>13.1526</td>\n",
              "    </tr>\n",
              "    <tr>\n",
              "      <th>2</th>\n",
              "      <td>2017-01-28</td>\n",
              "      <td>2477.729004</td>\n",
              "      <td>38.882353</td>\n",
              "      <td>B</td>\n",
              "      <td>10.8</td>\n",
              "      <td>맑음</td>\n",
              "      <td>37.000000</td>\n",
              "      <td>0.0</td>\n",
              "      <td>10.671429</td>\n",
              "      <td>13.6300</td>\n",
              "    </tr>\n",
              "    <tr>\n",
              "      <th>3</th>\n",
              "      <td>2017-01-29</td>\n",
              "      <td>241.446289</td>\n",
              "      <td>37.176471</td>\n",
              "      <td>C</td>\n",
              "      <td>6.7</td>\n",
              "      <td>흐림</td>\n",
              "      <td>99.000000</td>\n",
              "      <td>4.0</td>\n",
              "      <td>9.385714</td>\n",
              "      <td>2.4199</td>\n",
              "    </tr>\n",
              "    <tr>\n",
              "      <th>4</th>\n",
              "      <td>2017-01-30</td>\n",
              "      <td>2768.182617</td>\n",
              "      <td>35.823529</td>\n",
              "      <td>B</td>\n",
              "      <td>3.5</td>\n",
              "      <td>맑음</td>\n",
              "      <td>54.571429</td>\n",
              "      <td>0.0</td>\n",
              "      <td>13.371429</td>\n",
              "      <td>12.2054</td>\n",
              "    </tr>\n",
              "    <tr>\n",
              "      <th>...</th>\n",
              "      <td>...</td>\n",
              "      <td>...</td>\n",
              "      <td>...</td>\n",
              "      <td>...</td>\n",
              "      <td>...</td>\n",
              "      <td>...</td>\n",
              "      <td>...</td>\n",
              "      <td>...</td>\n",
              "      <td>...</td>\n",
              "      <td>...</td>\n",
              "    </tr>\n",
              "    <tr>\n",
              "      <th>1350</th>\n",
              "      <td>2020-10-07</td>\n",
              "      <td>2878.000000</td>\n",
              "      <td>20.176471</td>\n",
              "      <td>B</td>\n",
              "      <td>23.0</td>\n",
              "      <td>맑음</td>\n",
              "      <td>40.285714</td>\n",
              "      <td>0.0</td>\n",
              "      <td>13.285714</td>\n",
              "      <td>17.6437</td>\n",
              "    </tr>\n",
              "    <tr>\n",
              "      <th>1351</th>\n",
              "      <td>2020-10-08</td>\n",
              "      <td>2937.250000</td>\n",
              "      <td>24.000000</td>\n",
              "      <td>B</td>\n",
              "      <td>22.3</td>\n",
              "      <td>맑음</td>\n",
              "      <td>41.571429</td>\n",
              "      <td>0.0</td>\n",
              "      <td>14.000000</td>\n",
              "      <td>20.1938</td>\n",
              "    </tr>\n",
              "    <tr>\n",
              "      <th>1352</th>\n",
              "      <td>2020-10-09</td>\n",
              "      <td>2693.000000</td>\n",
              "      <td>25.000000</td>\n",
              "      <td>B</td>\n",
              "      <td>23.0</td>\n",
              "      <td>구름</td>\n",
              "      <td>41.000000</td>\n",
              "      <td>0.0</td>\n",
              "      <td>14.457143</td>\n",
              "      <td>19.6520</td>\n",
              "    </tr>\n",
              "    <tr>\n",
              "      <th>1353</th>\n",
              "      <td>2020-10-10</td>\n",
              "      <td>2639.250000</td>\n",
              "      <td>19.058824</td>\n",
              "      <td>B</td>\n",
              "      <td>23.3</td>\n",
              "      <td>맑음</td>\n",
              "      <td>47.285714</td>\n",
              "      <td>0.0</td>\n",
              "      <td>14.142857</td>\n",
              "      <td>17.0335</td>\n",
              "    </tr>\n",
              "    <tr>\n",
              "      <th>1354</th>\n",
              "      <td>2020-10-11</td>\n",
              "      <td>2633.250000</td>\n",
              "      <td>21.117647</td>\n",
              "      <td>B</td>\n",
              "      <td>22.1</td>\n",
              "      <td>맑음</td>\n",
              "      <td>47.571429</td>\n",
              "      <td>0.0</td>\n",
              "      <td>13.500000</td>\n",
              "      <td>15.9786</td>\n",
              "    </tr>\n",
              "  </tbody>\n",
              "</table>\n",
              "<p>1355 rows × 10 columns</p>\n",
              "</div>\n",
              "      <button class=\"colab-df-convert\" onclick=\"convertToInteractive('df-54fc60ce-e3ff-4c4b-a536-e80945a17f23')\"\n",
              "              title=\"Convert this dataframe to an interactive table.\"\n",
              "              style=\"display:none;\">\n",
              "        \n",
              "  <svg xmlns=\"http://www.w3.org/2000/svg\" height=\"24px\"viewBox=\"0 0 24 24\"\n",
              "       width=\"24px\">\n",
              "    <path d=\"M0 0h24v24H0V0z\" fill=\"none\"/>\n",
              "    <path d=\"M18.56 5.44l.94 2.06.94-2.06 2.06-.94-2.06-.94-.94-2.06-.94 2.06-2.06.94zm-11 1L8.5 8.5l.94-2.06 2.06-.94-2.06-.94L8.5 2.5l-.94 2.06-2.06.94zm10 10l.94 2.06.94-2.06 2.06-.94-2.06-.94-.94-2.06-.94 2.06-2.06.94z\"/><path d=\"M17.41 7.96l-1.37-1.37c-.4-.4-.92-.59-1.43-.59-.52 0-1.04.2-1.43.59L10.3 9.45l-7.72 7.72c-.78.78-.78 2.05 0 2.83L4 21.41c.39.39.9.59 1.41.59.51 0 1.02-.2 1.41-.59l7.78-7.78 2.81-2.81c.8-.78.8-2.07 0-2.86zM5.41 20L4 18.59l7.72-7.72 1.47 1.35L5.41 20z\"/>\n",
              "  </svg>\n",
              "      </button>\n",
              "      \n",
              "  <style>\n",
              "    .colab-df-container {\n",
              "      display:flex;\n",
              "      flex-wrap:wrap;\n",
              "      gap: 12px;\n",
              "    }\n",
              "\n",
              "    .colab-df-convert {\n",
              "      background-color: #E8F0FE;\n",
              "      border: none;\n",
              "      border-radius: 50%;\n",
              "      cursor: pointer;\n",
              "      display: none;\n",
              "      fill: #1967D2;\n",
              "      height: 32px;\n",
              "      padding: 0 0 0 0;\n",
              "      width: 32px;\n",
              "    }\n",
              "\n",
              "    .colab-df-convert:hover {\n",
              "      background-color: #E2EBFA;\n",
              "      box-shadow: 0px 1px 2px rgba(60, 64, 67, 0.3), 0px 1px 3px 1px rgba(60, 64, 67, 0.15);\n",
              "      fill: #174EA6;\n",
              "    }\n",
              "\n",
              "    [theme=dark] .colab-df-convert {\n",
              "      background-color: #3B4455;\n",
              "      fill: #D2E3FC;\n",
              "    }\n",
              "\n",
              "    [theme=dark] .colab-df-convert:hover {\n",
              "      background-color: #434B5C;\n",
              "      box-shadow: 0px 1px 3px 1px rgba(0, 0, 0, 0.15);\n",
              "      filter: drop-shadow(0px 1px 2px rgba(0, 0, 0, 0.3));\n",
              "      fill: #FFFFFF;\n",
              "    }\n",
              "  </style>\n",
              "\n",
              "      <script>\n",
              "        const buttonEl =\n",
              "          document.querySelector('#df-54fc60ce-e3ff-4c4b-a536-e80945a17f23 button.colab-df-convert');\n",
              "        buttonEl.style.display =\n",
              "          google.colab.kernel.accessAllowed ? 'block' : 'none';\n",
              "\n",
              "        async function convertToInteractive(key) {\n",
              "          const element = document.querySelector('#df-54fc60ce-e3ff-4c4b-a536-e80945a17f23');\n",
              "          const dataTable =\n",
              "            await google.colab.kernel.invokeFunction('convertToInteractive',\n",
              "                                                     [key], {});\n",
              "          if (!dataTable) return;\n",
              "\n",
              "          const docLinkHtml = 'Like what you see? Visit the ' +\n",
              "            '<a target=\"_blank\" href=https://colab.research.google.com/notebooks/data_table.ipynb>data table notebook</a>'\n",
              "            + ' to learn more about interactive tables.';\n",
              "          element.innerHTML = '';\n",
              "          dataTable['output_type'] = 'display_data';\n",
              "          await google.colab.output.renderOutput(dataTable, element);\n",
              "          const docLink = document.createElement('div');\n",
              "          docLink.innerHTML = docLinkHtml;\n",
              "          element.appendChild(docLink);\n",
              "        }\n",
              "      </script>\n",
              "    </div>\n",
              "  </div>\n",
              "  "
            ]
          },
          "metadata": {},
          "execution_count": 64
        }
      ]
    },
    {
      "cell_type": "code",
      "source": [
        "# 기본 전처리에 해당하는 전처리 1), 2)\n",
        "df.at[df[\"Rain\"] > 0, \"Rain\"] = 1\n",
        "df.at[df[\"AveragePM10\"] == -1, \"AveragePM10\"] = 0"
      ],
      "metadata": {
        "id": "Der9yPYq9NTS"
      },
      "execution_count": null,
      "outputs": []
    },
    {
      "cell_type": "code",
      "source": [
        "# 4)\n",
        "df_Scaled = df.loc[:, [\"AveragePM10\", \"Sight\"]]\n",
        "feature = ['AveragePM10', 'Sight']\n",
        "\n",
        "scaler = StandardScaler()\n",
        "scaler.fit(df_Scaled)\n",
        "df_Scaled_Result = scaler.transform(df_Scaled)\n",
        "scaled_Result_Df = pd.DataFrame(df_Scaled_Result, columns = feature)\n",
        "df_Main = df.drop(columns=['AveragePM10', 'Sight'], axis = 1)\n",
        "df_Total = pd.concat([df_Main, scaled_Result_Df], axis = 1)"
      ],
      "metadata": {
        "id": "87NnG4UO9Ski"
      },
      "execution_count": null,
      "outputs": []
    },
    {
      "cell_type": "code",
      "source": [
        "# + 날씨\n",
        "df_Total = pd.get_dummies(df_Total, columns = ['WeatherForecast', \"Averagecloud\"])"
      ],
      "metadata": {
        "id": "gXcPG9f89VsP"
      },
      "execution_count": null,
      "outputs": []
    },
    {
      "cell_type": "code",
      "source": [
        "df_Total['Date'] = pd.to_datetime(df_Total['Date'])\n",
        "df_Total['year'] = df_Total[\"Date\"].dt.year\n",
        "df_Total['month'] = df_Total[\"Date\"].dt.month\n",
        "df_Total['day'] = df_Total[\"Date\"].dt.day\n",
        "df_Total.drop([\"Date\"], axis = 1, inplace=True)"
      ],
      "metadata": {
        "id": "S7aFSUkK9j-r"
      },
      "execution_count": null,
      "outputs": []
    },
    {
      "cell_type": "code",
      "source": [
        "# 운량이 다중공선성이 높음 -> 삭제 -> 더미화해서 삭제 안 함\n",
        "sns.heatmap(df_Total.corr())"
      ],
      "metadata": {
        "colab": {
          "base_uri": "https://localhost:8080/",
          "height": 378
        },
        "id": "ogezbbTQ9mOj",
        "outputId": "23c960d2-8576-40fb-f4b9-d4df1651ed74"
      },
      "execution_count": null,
      "outputs": [
        {
          "output_type": "execute_result",
          "data": {
            "text/plain": [
              "<matplotlib.axes._subplots.AxesSubplot at 0x7fa16bd8be90>"
            ]
          },
          "metadata": {},
          "execution_count": 69
        },
        {
          "output_type": "display_data",
          "data": {
            "text/plain": [
              "<Figure size 432x288 with 2 Axes>"
            ],
            "image/png": "[encoded data removed]"
          },
          "metadata": {
            "needs_background": "light"
          }
        }
      ]
    },
    {
      "cell_type": "code",
      "source": [
        "X = df_Total.drop([\"Generatedpower\"], axis=1)\n",
        "y = df_Total[\"Generatedpower\"]\n",
        "X_train, X_valid, y_train, y_valid = train_test_split(X, y, test_size = 0.2, random_state = 34)"
      ],
      "metadata": {
        "id": "DfdD2WgQ9rAf"
      },
      "execution_count": null,
      "outputs": []
    },
    {
      "cell_type": "code",
      "source": [
        "from lightgbm import LGBMRegressor\n",
        "\n",
        "lgbm_model = LGBMRegressor()\n",
        "lgbm_model.fit(X_train, y_train,verbose=True)\n",
        "\n",
        "score = lgbm_model.score(X_valid, y_valid)\n",
        "print(score)"
      ],
      "metadata": {
        "colab": {
          "base_uri": "https://localhost:8080/"
        },
        "id": "1K3F549190Vr",
        "outputId": "58cf6d8a-e733-4031-d49b-08ad40af0dac"
      },
      "execution_count": null,
      "outputs": [
        {
          "output_type": "stream",
          "name": "stdout",
          "text": [
            "0.8300603698925481\n"
          ]
        }
      ]
    },
    {
      "cell_type": "code",
      "source": [
        "# 83 돌파~~"
      ],
      "metadata": {
        "id": "c-SbrJBC92XT"
      },
      "execution_count": null,
      "outputs": []
    },
    {
      "cell_type": "code",
      "source": [
        ""
      ],
      "metadata": {
        "id": "o8leJ-YkFQGZ"
      },
      "execution_count": null,
      "outputs": []
    },
    {
      "cell_type": "code",
      "source": [
        ""
      ],
      "metadata": {
        "id": "de_YEakgFQEg"
      },
      "execution_count": null,
      "outputs": []
    },
    {
      "cell_type": "code",
      "source": [
        ""
      ],
      "metadata": {
        "id": "HsqFNMQ_FQCs"
      },
      "execution_count": null,
      "outputs": []
    },
    {
      "cell_type": "code",
      "source": [
        ""
      ],
      "metadata": {
        "id": "5prVp335FQAk"
      },
      "execution_count": null,
      "outputs": []
    },
    {
      "cell_type": "code",
      "source": [
        ""
      ],
      "metadata": {
        "id": "i9nw6EVZFP-L"
      },
      "execution_count": null,
      "outputs": []
    },
    {
      "cell_type": "code",
      "source": [
        ""
      ],
      "metadata": {
        "id": "VDFUGObyFP7j"
      },
      "execution_count": null,
      "outputs": []
    },
    {
      "cell_type": "markdown",
      "source": [
        "# 습도별로 더미화"
      ],
      "metadata": {
        "id": "i1itqXZBFQfD"
      }
    },
    {
      "cell_type": "code",
      "source": [
        "df = pd.read_excel(\"/content/drive/MyDrive/프로그래밍 언어 공부 자료/인공지능/2022 데청캠/강의 자료/6일차/2022 데이터 청년 캠퍼스 6일차 과제(신규식, 한상범)/456일차 PL/데이터/SolarPv(습도) - 복사본.xlsx\")"
      ],
      "metadata": {
        "id": "qcOPIvAcFWRe"
      },
      "execution_count": null,
      "outputs": []
    },
    {
      "cell_type": "code",
      "source": [
        "# 기본 전처리에 해당하는 전처리 1), 2)\n",
        "df.at[df[\"Rain\"] > 0, \"Rain\"] = 1\n",
        "df.at[df[\"AveragePM10\"] == -1, \"AveragePM10\"] = 0"
      ],
      "metadata": {
        "id": "n52fBbjpFaDV"
      },
      "execution_count": null,
      "outputs": []
    },
    {
      "cell_type": "code",
      "source": [
        "# 4)\n",
        "df_Scaled = df.loc[:, [\"AveragePM10\", \"Averagecloud\", \"Sight\"]]\n",
        "feature = ['AveragePM10', 'Averagecloud', 'Sight']\n",
        "\n",
        "scaler = StandardScaler()\n",
        "scaler.fit(df_Scaled)\n",
        "df_Scaled_Result = scaler.transform(df_Scaled)\n",
        "scaled_Result_Df = pd.DataFrame(df_Scaled_Result, columns = feature)\n",
        "df_Main = df.drop(columns=['AveragePM10', 'Averagecloud', 'Sight'], axis = 1)\n",
        "df_Total = pd.concat([df_Main, scaled_Result_Df], axis = 1)"
      ],
      "metadata": {
        "id": "BiVJJ9hkFcHI"
      },
      "execution_count": null,
      "outputs": []
    },
    {
      "cell_type": "code",
      "source": [
        "# + 날씨\n",
        "df_Total = pd.get_dummies(df_Total, columns = ['WeatherForecast', \"HumidityForecast\"])"
      ],
      "metadata": {
        "id": "-APll06tFhjt"
      },
      "execution_count": null,
      "outputs": []
    },
    {
      "cell_type": "code",
      "source": [
        "df_Total['Date'] = pd.to_datetime(df_Total['Date'])\n",
        "df_Total['year'] = df_Total[\"Date\"].dt.year\n",
        "df_Total['month'] = df_Total[\"Date\"].dt.month\n",
        "df_Total['day'] = df_Total[\"Date\"].dt.day\n",
        "df_Total.drop([\"Date\"], axis = 1, inplace=True)"
      ],
      "metadata": {
        "id": "LkEflWjRFp6K"
      },
      "execution_count": null,
      "outputs": []
    },
    {
      "cell_type": "code",
      "source": [
        "# 운량이 다중공선성이 높음 -> 삭제 -> 더미화해서 삭제 안 함\n",
        "sns.heatmap(df_Total.corr())"
      ],
      "metadata": {
        "colab": {
          "base_uri": "https://localhost:8080/",
          "height": 378
        },
        "id": "uAph8AV1Fw71",
        "outputId": "c010a602-7f59-4ff6-80ef-1b620b66ac39"
      },
      "execution_count": null,
      "outputs": [
        {
          "output_type": "execute_result",
          "data": {
            "text/plain": [
              "<matplotlib.axes._subplots.AxesSubplot at 0x7fa16b801310>"
            ]
          },
          "metadata": {},
          "execution_count": 77
        },
        {
          "output_type": "display_data",
          "data": {
            "text/plain": [
              "<Figure size 432x288 with 2 Axes>"
            ],
            "image/png": "[encoded data removed]"
          },
          "metadata": {
            "needs_background": "light"
          }
        }
      ]
    },
    {
      "cell_type": "code",
      "source": [
        "df_Total.drop(\"Averagecloud\", axis = 1, inplace=True)"
      ],
      "metadata": {
        "id": "Q-FZDp4GFyWj"
      },
      "execution_count": null,
      "outputs": []
    },
    {
      "cell_type": "code",
      "source": [
        "df_Total"
      ],
      "metadata": {
        "colab": {
          "base_uri": "https://localhost:8080/",
          "height": 505
        },
        "id": "FaoThWBcF2lO",
        "outputId": "6cfc2874-126e-4218-a42f-40cd3cb32455"
      },
      "execution_count": null,
      "outputs": [
        {
          "output_type": "execute_result",
          "data": {
            "text/plain": [
              "      Generatedpower  Hightemp  Rain  Sunlight  AveragePM10     Sight  \\\n",
              "0        2230.406983       8.6   0.0   13.5526     1.288648 -0.935683   \n",
              "1        2326.791016       8.1   0.0   13.1526     0.408548  0.344995   \n",
              "2        2477.729004      10.8   0.0   13.6300     0.131533 -0.843306   \n",
              "3         241.446289       6.7   1.0    2.4199     0.047852 -1.221211   \n",
              "4        2768.182617       3.5   0.0   12.2054    -0.018517 -0.049706   \n",
              "...              ...       ...   ...       ...          ...       ...   \n",
              "1350     2878.000000      23.0   0.0   17.6437    -0.786079 -0.074899   \n",
              "1351     2937.250000      22.3   0.0   20.1938    -0.598517  0.135048   \n",
              "1352     2693.000000      23.0   0.0   19.6520    -0.549462  0.269414   \n",
              "1353     2639.250000      23.3   0.0   17.0335    -0.840905  0.177037   \n",
              "1354     2633.250000      22.1   0.0   15.9786    -0.739910 -0.011915   \n",
              "\n",
              "      WeatherForecast_강수  WeatherForecast_구름  WeatherForecast_맑음  \\\n",
              "0                      0                   0                   1   \n",
              "1                      0                   0                   1   \n",
              "2                      0                   0                   1   \n",
              "3                      0                   0                   0   \n",
              "4                      0                   0                   1   \n",
              "...                  ...                 ...                 ...   \n",
              "1350                   0                   0                   1   \n",
              "1351                   0                   0                   1   \n",
              "1352                   0                   1                   0   \n",
              "1353                   0                   0                   1   \n",
              "1354                   0                   0                   1   \n",
              "\n",
              "      WeatherForecast_안개  WeatherForecast_흐림  HumidityForecast_A  \\\n",
              "0                      0                   0                   1   \n",
              "1                      0                   0                   0   \n",
              "2                      0                   0                   0   \n",
              "3                      0                   1                   0   \n",
              "4                      0                   0                   0   \n",
              "...                  ...                 ...                 ...   \n",
              "1350                   0                   0                   0   \n",
              "1351                   0                   0                   0   \n",
              "1352                   0                   0                   0   \n",
              "1353                   0                   0                   0   \n",
              "1354                   0                   0                   0   \n",
              "\n",
              "      HumidityForecast_B  HumidityForecast_C  HumidityForecast_D  \\\n",
              "0                      0                   0                   0   \n",
              "1                      1                   0                   0   \n",
              "2                      1                   0                   0   \n",
              "3                      0                   0                   0   \n",
              "4                      0                   1                   0   \n",
              "...                  ...                 ...                 ...   \n",
              "1350                   1                   0                   0   \n",
              "1351                   1                   0                   0   \n",
              "1352                   1                   0                   0   \n",
              "1353                   1                   0                   0   \n",
              "1354                   1                   0                   0   \n",
              "\n",
              "      HumidityForecast_E  year  month  day  \n",
              "0                      0  2017      1   26  \n",
              "1                      0  2017      1   27  \n",
              "2                      0  2017      1   28  \n",
              "3                      1  2017      1   29  \n",
              "4                      0  2017      1   30  \n",
              "...                  ...   ...    ...  ...  \n",
              "1350                   0  2020     10    7  \n",
              "1351                   0  2020     10    8  \n",
              "1352                   0  2020     10    9  \n",
              "1353                   0  2020     10   10  \n",
              "1354                   0  2020     10   11  \n",
              "\n",
              "[1355 rows x 19 columns]"
            ],
            "text/html": [
              "\n",
              "  <div id=\"df-aa4a9b92-9b21-4001-9494-ce2f38e58560\">\n",
              "    <div class=\"colab-df-container\">\n",
              "      <div>\n",
              "<style scoped>\n",
              "    .dataframe tbody tr th:only-of-type {\n",
              "        vertical-align: middle;\n",
              "    }\n",
              "\n",
              "    .dataframe tbody tr th {\n",
              "        vertical-align: top;\n",
              "    }\n",
              "\n",
              "    .dataframe thead th {\n",
              "        text-align: right;\n",
              "    }\n",
              "</style>\n",
              "<table border=\"1\" class=\"dataframe\">\n",
              "  <thead>\n",
              "    <tr style=\"text-align: right;\">\n",
              "      <th></th>\n",
              "      <th>Generatedpower</th>\n",
              "      <th>Hightemp</th>\n",
              "      <th>Rain</th>\n",
              "      <th>Sunlight</th>\n",
              "      <th>AveragePM10</th>\n",
              "      <th>Sight</th>\n",
              "      <th>WeatherForecast_강수</th>\n",
              "      <th>WeatherForecast_구름</th>\n",
              "      <th>WeatherForecast_맑음</th>\n",
              "      <th>WeatherForecast_안개</th>\n",
              "      <th>WeatherForecast_흐림</th>\n",
              "      <th>HumidityForecast_A</th>\n",
              "      <th>HumidityForecast_B</th>\n",
              "      <th>HumidityForecast_C</th>\n",
              "      <th>HumidityForecast_D</th>\n",
              "      <th>HumidityForecast_E</th>\n",
              "      <th>year</th>\n",
              "      <th>month</th>\n",
              "      <th>day</th>\n",
              "    </tr>\n",
              "  </thead>\n",
              "  <tbody>\n",
              "    <tr>\n",
              "      <th>0</th>\n",
              "      <td>2230.406983</td>\n",
              "      <td>8.6</td>\n",
              "      <td>0.0</td>\n",
              "      <td>13.5526</td>\n",
              "      <td>1.288648</td>\n",
              "      <td>-0.935683</td>\n",
              "      <td>0</td>\n",
              "      <td>0</td>\n",
              "      <td>1</td>\n",
              "      <td>0</td>\n",
              "      <td>0</td>\n",
              "      <td>1</td>\n",
              "      <td>0</td>\n",
              "      <td>0</td>\n",
              "      <td>0</td>\n",
              "      <td>0</td>\n",
              "      <td>2017</td>\n",
              "      <td>1</td>\n",
              "      <td>26</td>\n",
              "    </tr>\n",
              "    <tr>\n",
              "      <th>1</th>\n",
              "      <td>2326.791016</td>\n",
              "      <td>8.1</td>\n",
              "      <td>0.0</td>\n",
              "      <td>13.1526</td>\n",
              "      <td>0.408548</td>\n",
              "      <td>0.344995</td>\n",
              "      <td>0</td>\n",
              "      <td>0</td>\n",
              "      <td>1</td>\n",
              "      <td>0</td>\n",
              "      <td>0</td>\n",
              "      <td>0</td>\n",
              "      <td>1</td>\n",
              "      <td>0</td>\n",
              "      <td>0</td>\n",
              "      <td>0</td>\n",
              "      <td>2017</td>\n",
              "      <td>1</td>\n",
              "      <td>27</td>\n",
              "    </tr>\n",
              "    <tr>\n",
              "      <th>2</th>\n",
              "      <td>2477.729004</td>\n",
              "      <td>10.8</td>\n",
              "      <td>0.0</td>\n",
              "      <td>13.6300</td>\n",
              "      <td>0.131533</td>\n",
              "      <td>-0.843306</td>\n",
              "      <td>0</td>\n",
              "      <td>0</td>\n",
              "      <td>1</td>\n",
              "      <td>0</td>\n",
              "      <td>0</td>\n",
              "      <td>0</td>\n",
              "      <td>1</td>\n",
              "      <td>0</td>\n",
              "      <td>0</td>\n",
              "      <td>0</td>\n",
              "      <td>2017</td>\n",
              "      <td>1</td>\n",
              "      <td>28</td>\n",
              "    </tr>\n",
              "    <tr>\n",
              "      <th>3</th>\n",
              "      <td>241.446289</td>\n",
              "      <td>6.7</td>\n",
              "      <td>1.0</td>\n",
              "      <td>2.4199</td>\n",
              "      <td>0.047852</td>\n",
              "      <td>-1.221211</td>\n",
              "      <td>0</td>\n",
              "      <td>0</td>\n",
              "      <td>0</td>\n",
              "      <td>0</td>\n",
              "      <td>1</td>\n",
              "      <td>0</td>\n",
              "      <td>0</td>\n",
              "      <td>0</td>\n",
              "      <td>0</td>\n",
              "      <td>1</td>\n",
              "      <td>2017</td>\n",
              "      <td>1</td>\n",
              "      <td>29</td>\n",
              "    </tr>\n",
              "    <tr>\n",
              "      <th>4</th>\n",
              "      <td>2768.182617</td>\n",
              "      <td>3.5</td>\n",
              "      <td>0.0</td>\n",
              "      <td>12.2054</td>\n",
              "      <td>-0.018517</td>\n",
              "      <td>-0.049706</td>\n",
              "      <td>0</td>\n",
              "      <td>0</td>\n",
              "      <td>1</td>\n",
              "      <td>0</td>\n",
              "      <td>0</td>\n",
              "      <td>0</td>\n",
              "      <td>0</td>\n",
              "      <td>1</td>\n",
              "      <td>0</td>\n",
              "      <td>0</td>\n",
              "      <td>2017</td>\n",
              "      <td>1</td>\n",
              "      <td>30</td>\n",
              "    </tr>\n",
              "    <tr>\n",
              "      <th>...</th>\n",
              "      <td>...</td>\n",
              "      <td>...</td>\n",
              "      <td>...</td>\n",
              "      <td>...</td>\n",
              "      <td>...</td>\n",
              "      <td>...</td>\n",
              "      <td>...</td>\n",
              "      <td>...</td>\n",
              "      <td>...</td>\n",
              "      <td>...</td>\n",
              "      <td>...</td>\n",
              "      <td>...</td>\n",
              "      <td>...</td>\n",
              "      <td>...</td>\n",
              "      <td>...</td>\n",
              "      <td>...</td>\n",
              "      <td>...</td>\n",
              "      <td>...</td>\n",
              "      <td>...</td>\n",
              "    </tr>\n",
              "    <tr>\n",
              "      <th>1350</th>\n",
              "      <td>2878.000000</td>\n",
              "      <td>23.0</td>\n",
              "      <td>0.0</td>\n",
              "      <td>17.6437</td>\n",
              "      <td>-0.786079</td>\n",
              "      <td>-0.074899</td>\n",
              "      <td>0</td>\n",
              "      <td>0</td>\n",
              "      <td>1</td>\n",
              "      <td>0</td>\n",
              "      <td>0</td>\n",
              "      <td>0</td>\n",
              "      <td>1</td>\n",
              "      <td>0</td>\n",
              "      <td>0</td>\n",
              "      <td>0</td>\n",
              "      <td>2020</td>\n",
              "      <td>10</td>\n",
              "      <td>7</td>\n",
              "    </tr>\n",
              "    <tr>\n",
              "      <th>1351</th>\n",
              "      <td>2937.250000</td>\n",
              "      <td>22.3</td>\n",
              "      <td>0.0</td>\n",
              "      <td>20.1938</td>\n",
              "      <td>-0.598517</td>\n",
              "      <td>0.135048</td>\n",
              "      <td>0</td>\n",
              "      <td>0</td>\n",
              "      <td>1</td>\n",
              "      <td>0</td>\n",
              "      <td>0</td>\n",
              "      <td>0</td>\n",
              "      <td>1</td>\n",
              "      <td>0</td>\n",
              "      <td>0</td>\n",
              "      <td>0</td>\n",
              "      <td>2020</td>\n",
              "      <td>10</td>\n",
              "      <td>8</td>\n",
              "    </tr>\n",
              "    <tr>\n",
              "      <th>1352</th>\n",
              "      <td>2693.000000</td>\n",
              "      <td>23.0</td>\n",
              "      <td>0.0</td>\n",
              "      <td>19.6520</td>\n",
              "      <td>-0.549462</td>\n",
              "      <td>0.269414</td>\n",
              "      <td>0</td>\n",
              "      <td>1</td>\n",
              "      <td>0</td>\n",
              "      <td>0</td>\n",
              "      <td>0</td>\n",
              "      <td>0</td>\n",
              "      <td>1</td>\n",
              "      <td>0</td>\n",
              "      <td>0</td>\n",
              "      <td>0</td>\n",
              "      <td>2020</td>\n",
              "      <td>10</td>\n",
              "      <td>9</td>\n",
              "    </tr>\n",
              "    <tr>\n",
              "      <th>1353</th>\n",
              "      <td>2639.250000</td>\n",
              "      <td>23.3</td>\n",
              "      <td>0.0</td>\n",
              "      <td>17.0335</td>\n",
              "      <td>-0.840905</td>\n",
              "      <td>0.177037</td>\n",
              "      <td>0</td>\n",
              "      <td>0</td>\n",
              "      <td>1</td>\n",
              "      <td>0</td>\n",
              "      <td>0</td>\n",
              "      <td>0</td>\n",
              "      <td>1</td>\n",
              "      <td>0</td>\n",
              "      <td>0</td>\n",
              "      <td>0</td>\n",
              "      <td>2020</td>\n",
              "      <td>10</td>\n",
              "      <td>10</td>\n",
              "    </tr>\n",
              "    <tr>\n",
              "      <th>1354</th>\n",
              "      <td>2633.250000</td>\n",
              "      <td>22.1</td>\n",
              "      <td>0.0</td>\n",
              "      <td>15.9786</td>\n",
              "      <td>-0.739910</td>\n",
              "      <td>-0.011915</td>\n",
              "      <td>0</td>\n",
              "      <td>0</td>\n",
              "      <td>1</td>\n",
              "      <td>0</td>\n",
              "      <td>0</td>\n",
              "      <td>0</td>\n",
              "      <td>1</td>\n",
              "      <td>0</td>\n",
              "      <td>0</td>\n",
              "      <td>0</td>\n",
              "      <td>2020</td>\n",
              "      <td>10</td>\n",
              "      <td>11</td>\n",
              "    </tr>\n",
              "  </tbody>\n",
              "</table>\n",
              "<p>1355 rows × 19 columns</p>\n",
              "</div>\n",
              "      <button class=\"colab-df-convert\" onclick=\"convertToInteractive('df-aa4a9b92-9b21-4001-9494-ce2f38e58560')\"\n",
              "              title=\"Convert this dataframe to an interactive table.\"\n",
              "              style=\"display:none;\">\n",
              "        \n",
              "  <svg xmlns=\"http://www.w3.org/2000/svg\" height=\"24px\"viewBox=\"0 0 24 24\"\n",
              "       width=\"24px\">\n",
              "    <path d=\"M0 0h24v24H0V0z\" fill=\"none\"/>\n",
              "    <path d=\"M18.56 5.44l.94 2.06.94-2.06 2.06-.94-2.06-.94-.94-2.06-.94 2.06-2.06.94zm-11 1L8.5 8.5l.94-2.06 2.06-.94-2.06-.94L8.5 2.5l-.94 2.06-2.06.94zm10 10l.94 2.06.94-2.06 2.06-.94-2.06-.94-.94-2.06-.94 2.06-2.06.94z\"/><path d=\"M17.41 7.96l-1.37-1.37c-.4-.4-.92-.59-1.43-.59-.52 0-1.04.2-1.43.59L10.3 9.45l-7.72 7.72c-.78.78-.78 2.05 0 2.83L4 21.41c.39.39.9.59 1.41.59.51 0 1.02-.2 1.41-.59l7.78-7.78 2.81-2.81c.8-.78.8-2.07 0-2.86zM5.41 20L4 18.59l7.72-7.72 1.47 1.35L5.41 20z\"/>\n",
              "  </svg>\n",
              "      </button>\n",
              "      \n",
              "  <style>\n",
              "    .colab-df-container {\n",
              "      display:flex;\n",
              "      flex-wrap:wrap;\n",
              "      gap: 12px;\n",
              "    }\n",
              "\n",
              "    .colab-df-convert {\n",
              "      background-color: #E8F0FE;\n",
              "      border: none;\n",
              "      border-radius: 50%;\n",
              "      cursor: pointer;\n",
              "      display: none;\n",
              "      fill: #1967D2;\n",
              "      height: 32px;\n",
              "      padding: 0 0 0 0;\n",
              "      width: 32px;\n",
              "    }\n",
              "\n",
              "    .colab-df-convert:hover {\n",
              "      background-color: #E2EBFA;\n",
              "      box-shadow: 0px 1px 2px rgba(60, 64, 67, 0.3), 0px 1px 3px 1px rgba(60, 64, 67, 0.15);\n",
              "      fill: #174EA6;\n",
              "    }\n",
              "\n",
              "    [theme=dark] .colab-df-convert {\n",
              "      background-color: #3B4455;\n",
              "      fill: #D2E3FC;\n",
              "    }\n",
              "\n",
              "    [theme=dark] .colab-df-convert:hover {\n",
              "      background-color: #434B5C;\n",
              "      box-shadow: 0px 1px 3px 1px rgba(0, 0, 0, 0.15);\n",
              "      filter: drop-shadow(0px 1px 2px rgba(0, 0, 0, 0.3));\n",
              "      fill: #FFFFFF;\n",
              "    }\n",
              "  </style>\n",
              "\n",
              "      <script>\n",
              "        const buttonEl =\n",
              "          document.querySelector('#df-aa4a9b92-9b21-4001-9494-ce2f38e58560 button.colab-df-convert');\n",
              "        buttonEl.style.display =\n",
              "          google.colab.kernel.accessAllowed ? 'block' : 'none';\n",
              "\n",
              "        async function convertToInteractive(key) {\n",
              "          const element = document.querySelector('#df-aa4a9b92-9b21-4001-9494-ce2f38e58560');\n",
              "          const dataTable =\n",
              "            await google.colab.kernel.invokeFunction('convertToInteractive',\n",
              "                                                     [key], {});\n",
              "          if (!dataTable) return;\n",
              "\n",
              "          const docLinkHtml = 'Like what you see? Visit the ' +\n",
              "            '<a target=\"_blank\" href=https://colab.research.google.com/notebooks/data_table.ipynb>data table notebook</a>'\n",
              "            + ' to learn more about interactive tables.';\n",
              "          element.innerHTML = '';\n",
              "          dataTable['output_type'] = 'display_data';\n",
              "          await google.colab.output.renderOutput(dataTable, element);\n",
              "          const docLink = document.createElement('div');\n",
              "          docLink.innerHTML = docLinkHtml;\n",
              "          element.appendChild(docLink);\n",
              "        }\n",
              "      </script>\n",
              "    </div>\n",
              "  </div>\n",
              "  "
            ]
          },
          "metadata": {},
          "execution_count": 79
        }
      ]
    },
    {
      "cell_type": "code",
      "source": [
        "X = df_Total.drop([\"Generatedpower\"], axis=1)\n",
        "y = df_Total[\"Generatedpower\"]\n",
        "X_train, X_valid, y_train, y_valid = train_test_split(X, y, test_size = 0.2, random_state = 34)"
      ],
      "metadata": {
        "id": "_39qddxpGACD"
      },
      "execution_count": null,
      "outputs": []
    },
    {
      "cell_type": "code",
      "source": [
        "from lightgbm import LGBMRegressor\n",
        "\n",
        "lgbm_model = LGBMRegressor()\n",
        "lgbm_model.fit(X_train, y_train,verbose=True)\n",
        "\n",
        "score = lgbm_model.score(X_valid, y_valid)\n",
        "print(score)"
      ],
      "metadata": {
        "colab": {
          "base_uri": "https://localhost:8080/"
        },
        "id": "FdxytfVJF7jq",
        "outputId": "540d7b5b-b066-4e7f-9d13-85a96713a7b2"
      },
      "execution_count": null,
      "outputs": [
        {
          "output_type": "stream",
          "name": "stdout",
          "text": [
            "0.8162296748941273\n"
          ]
        }
      ]
    },
    {
      "cell_type": "markdown",
      "source": [
        "# 결론\n",
        "1. 아무런 전처리하지 않았을 때보다 잘 나온다!!! 확인\n",
        "2. 하지만 다중 공선성을 만족시키기 위해 컬럼을 삭제했을 때보다 삭제하지 않고 전부 포함했을 때가 더 정확도가 높다..\n",
        "3. 이런 전처리 평가 전처리 평가를 하면서 정확도를 높이는 거다~~(+ 교차검증으로 하퍼 조정까지하면 최고)"
      ],
      "metadata": {
        "id": "vGnwGJU9HEz2"
      }
    },
    {
      "cell_type": "code",
      "source": [
        ""
      ],
      "metadata": {
        "id": "qLQFL3U2GCKK"
      },
      "execution_count": null,
      "outputs": []
    },
    {
      "cell_type": "code",
      "source": [
        ""
      ],
      "metadata": {
        "id": "p8FW0yHXG3Qe"
      },
      "execution_count": null,
      "outputs": []
    },
    {
      "cell_type": "code",
      "source": [
        ""
      ],
      "metadata": {
        "id": "3dvZy8HHG3Ol"
      },
      "execution_count": null,
      "outputs": []
    },
    {
      "cell_type": "code",
      "source": [
        ""
      ],
      "metadata": {
        "id": "lFVRjPUGG3Mr"
      },
      "execution_count": null,
      "outputs": []
    },
    {
      "cell_type": "code",
      "source": [
        ""
      ],
      "metadata": {
        "id": "EPzhi3xuG3Kn"
      },
      "execution_count": null,
      "outputs": []
    },
    {
      "cell_type": "code",
      "source": [
        ""
      ],
      "metadata": {
        "id": "3XpX18qyG3Ib"
      },
      "execution_count": null,
      "outputs": []
    },
    {
      "cell_type": "markdown",
      "source": [
        "# 종속변수 더미화하고 결과 비교\n",
        "0731에 판다스 강화 공부하고 난 나에게 이정도는 식은죽 먹기!!\n",
        "\n",
        "\n"
      ],
      "metadata": {
        "id": "LIPm09IXG4fH"
      }
    },
    {
      "cell_type": "markdown",
      "source": [
        "## 종속변수 + 계절로 더미화"
      ],
      "metadata": {
        "id": "yZT01eNsLBFd"
      }
    },
    {
      "cell_type": "code",
      "source": [
        "df = pd.read_excel(\"/content/drive/MyDrive/프로그래밍 언어 공부 자료/인공지능/2022 데청캠/강의 자료/6일차/2022 데이터 청년 캠퍼스 6일차 과제(신규식, 한상범)/456일차 PL/데이터/SolarPv(계절별) - 복사본.xlsx\")"
      ],
      "metadata": {
        "id": "SdRIybHhG80a"
      },
      "execution_count": null,
      "outputs": []
    },
    {
      "cell_type": "code",
      "source": [
        "df"
      ],
      "metadata": {
        "colab": {
          "base_uri": "https://localhost:8080/",
          "height": 424
        },
        "id": "Ej89jr9mG9UW",
        "outputId": "0c1fc9bd-af29-40f2-9f51-0e430701ef88"
      },
      "execution_count": null,
      "outputs": [
        {
          "output_type": "execute_result",
          "data": {
            "text/plain": [
              "     Date  Generatedpower  AveragePM10  Averagecloud  Hightemp  \\\n",
              "0      겨울     2230.406983    62.470588      0.000000       8.6   \n",
              "1      겨울     2326.791016    44.529412      2.411765       8.1   \n",
              "2      겨울     2477.729004    38.882353      0.352941      10.8   \n",
              "3      겨울      241.446289    37.176471      7.352941       6.7   \n",
              "4      겨울     2768.182617    35.823529      2.411765       3.5   \n",
              "...   ...             ...          ...           ...       ...   \n",
              "1350   가을     2878.000000    20.176471      1.588235      23.0   \n",
              "1351   가을     2937.250000    24.000000      0.117647      22.3   \n",
              "1352   가을     2693.000000    25.000000      3.058824      23.0   \n",
              "1353   가을     2639.250000    19.058824      2.176471      23.3   \n",
              "1354   가을     2633.250000    21.117647      1.529412      22.1   \n",
              "\n",
              "     WeatherForecast  HumidityForecast  Rain      Sight  Sunlight  \n",
              "0                 맑음         51.000000   0.0  10.357143   13.5526  \n",
              "1                 맑음         44.571429   0.0  14.714286   13.1526  \n",
              "2                 맑음         37.000000   0.0  10.671429   13.6300  \n",
              "3                 흐림         99.000000   4.0   9.385714    2.4199  \n",
              "4                 맑음         54.571429   0.0  13.371429   12.2054  \n",
              "...              ...               ...   ...        ...       ...  \n",
              "1350              맑음         40.285714   0.0  13.285714   17.6437  \n",
              "1351              맑음         41.571429   0.0  14.000000   20.1938  \n",
              "1352              구름         41.000000   0.0  14.457143   19.6520  \n",
              "1353              맑음         47.285714   0.0  14.142857   17.0335  \n",
              "1354              맑음         47.571429   0.0  13.500000   15.9786  \n",
              "\n",
              "[1355 rows x 10 columns]"
            ],
            "text/html": [
              "\n",
              "  <div id=\"df-6b0185f0-0eda-4d3c-b6af-b1c2b0242529\">\n",
              "    <div class=\"colab-df-container\">\n",
              "      <div>\n",
              "<style scoped>\n",
              "    .dataframe tbody tr th:only-of-type {\n",
              "        vertical-align: middle;\n",
              "    }\n",
              "\n",
              "    .dataframe tbody tr th {\n",
              "        vertical-align: top;\n",
              "    }\n",
              "\n",
              "    .dataframe thead th {\n",
              "        text-align: right;\n",
              "    }\n",
              "</style>\n",
              "<table border=\"1\" class=\"dataframe\">\n",
              "  <thead>\n",
              "    <tr style=\"text-align: right;\">\n",
              "      <th></th>\n",
              "      <th>Date</th>\n",
              "      <th>Generatedpower</th>\n",
              "      <th>AveragePM10</th>\n",
              "      <th>Averagecloud</th>\n",
              "      <th>Hightemp</th>\n",
              "      <th>WeatherForecast</th>\n",
              "      <th>HumidityForecast</th>\n",
              "      <th>Rain</th>\n",
              "      <th>Sight</th>\n",
              "      <th>Sunlight</th>\n",
              "    </tr>\n",
              "  </thead>\n",
              "  <tbody>\n",
              "    <tr>\n",
              "      <th>0</th>\n",
              "      <td>겨울</td>\n",
              "      <td>2230.406983</td>\n",
              "      <td>62.470588</td>\n",
              "      <td>0.000000</td>\n",
              "      <td>8.6</td>\n",
              "      <td>맑음</td>\n",
              "      <td>51.000000</td>\n",
              "      <td>0.0</td>\n",
              "      <td>10.357143</td>\n",
              "      <td>13.5526</td>\n",
              "    </tr>\n",
              "    <tr>\n",
              "      <th>1</th>\n",
              "      <td>겨울</td>\n",
              "      <td>2326.791016</td>\n",
              "      <td>44.529412</td>\n",
              "      <td>2.411765</td>\n",
              "      <td>8.1</td>\n",
              "      <td>맑음</td>\n",
              "      <td>44.571429</td>\n",
              "      <td>0.0</td>\n",
              "      <td>14.714286</td>\n",
              "      <td>13.1526</td>\n",
              "    </tr>\n",
              "    <tr>\n",
              "      <th>2</th>\n",
              "      <td>겨울</td>\n",
              "      <td>2477.729004</td>\n",
              "      <td>38.882353</td>\n",
              "      <td>0.352941</td>\n",
              "      <td>10.8</td>\n",
              "      <td>맑음</td>\n",
              "      <td>37.000000</td>\n",
              "      <td>0.0</td>\n",
              "      <td>10.671429</td>\n",
              "      <td>13.6300</td>\n",
              "    </tr>\n",
              "    <tr>\n",
              "      <th>3</th>\n",
              "      <td>겨울</td>\n",
              "      <td>241.446289</td>\n",
              "      <td>37.176471</td>\n",
              "      <td>7.352941</td>\n",
              "      <td>6.7</td>\n",
              "      <td>흐림</td>\n",
              "      <td>99.000000</td>\n",
              "      <td>4.0</td>\n",
              "      <td>9.385714</td>\n",
              "      <td>2.4199</td>\n",
              "    </tr>\n",
              "    <tr>\n",
              "      <th>4</th>\n",
              "      <td>겨울</td>\n",
              "      <td>2768.182617</td>\n",
              "      <td>35.823529</td>\n",
              "      <td>2.411765</td>\n",
              "      <td>3.5</td>\n",
              "      <td>맑음</td>\n",
              "      <td>54.571429</td>\n",
              "      <td>0.0</td>\n",
              "      <td>13.371429</td>\n",
              "      <td>12.2054</td>\n",
              "    </tr>\n",
              "    <tr>\n",
              "      <th>...</th>\n",
              "      <td>...</td>\n",
              "      <td>...</td>\n",
              "      <td>...</td>\n",
              "      <td>...</td>\n",
              "      <td>...</td>\n",
              "      <td>...</td>\n",
              "      <td>...</td>\n",
              "      <td>...</td>\n",
              "      <td>...</td>\n",
              "      <td>...</td>\n",
              "    </tr>\n",
              "    <tr>\n",
              "      <th>1350</th>\n",
              "      <td>가을</td>\n",
              "      <td>2878.000000</td>\n",
              "      <td>20.176471</td>\n",
              "      <td>1.588235</td>\n",
              "      <td>23.0</td>\n",
              "      <td>맑음</td>\n",
              "      <td>40.285714</td>\n",
              "      <td>0.0</td>\n",
              "      <td>13.285714</td>\n",
              "      <td>17.6437</td>\n",
              "    </tr>\n",
              "    <tr>\n",
              "      <th>1351</th>\n",
              "      <td>가을</td>\n",
              "      <td>2937.250000</td>\n",
              "      <td>24.000000</td>\n",
              "      <td>0.117647</td>\n",
              "      <td>22.3</td>\n",
              "      <td>맑음</td>\n",
              "      <td>41.571429</td>\n",
              "      <td>0.0</td>\n",
              "      <td>14.000000</td>\n",
              "      <td>20.1938</td>\n",
              "    </tr>\n",
              "    <tr>\n",
              "      <th>1352</th>\n",
              "      <td>가을</td>\n",
              "      <td>2693.000000</td>\n",
              "      <td>25.000000</td>\n",
              "      <td>3.058824</td>\n",
              "      <td>23.0</td>\n",
              "      <td>구름</td>\n",
              "      <td>41.000000</td>\n",
              "      <td>0.0</td>\n",
              "      <td>14.457143</td>\n",
              "      <td>19.6520</td>\n",
              "    </tr>\n",
              "    <tr>\n",
              "      <th>1353</th>\n",
              "      <td>가을</td>\n",
              "      <td>2639.250000</td>\n",
              "      <td>19.058824</td>\n",
              "      <td>2.176471</td>\n",
              "      <td>23.3</td>\n",
              "      <td>맑음</td>\n",
              "      <td>47.285714</td>\n",
              "      <td>0.0</td>\n",
              "      <td>14.142857</td>\n",
              "      <td>17.0335</td>\n",
              "    </tr>\n",
              "    <tr>\n",
              "      <th>1354</th>\n",
              "      <td>가을</td>\n",
              "      <td>2633.250000</td>\n",
              "      <td>21.117647</td>\n",
              "      <td>1.529412</td>\n",
              "      <td>22.1</td>\n",
              "      <td>맑음</td>\n",
              "      <td>47.571429</td>\n",
              "      <td>0.0</td>\n",
              "      <td>13.500000</td>\n",
              "      <td>15.9786</td>\n",
              "    </tr>\n",
              "  </tbody>\n",
              "</table>\n",
              "<p>1355 rows × 10 columns</p>\n",
              "</div>\n",
              "      <button class=\"colab-df-convert\" onclick=\"convertToInteractive('df-6b0185f0-0eda-4d3c-b6af-b1c2b0242529')\"\n",
              "              title=\"Convert this dataframe to an interactive table.\"\n",
              "              style=\"display:none;\">\n",
              "        \n",
              "  <svg xmlns=\"http://www.w3.org/2000/svg\" height=\"24px\"viewBox=\"0 0 24 24\"\n",
              "       width=\"24px\">\n",
              "    <path d=\"M0 0h24v24H0V0z\" fill=\"none\"/>\n",
              "    <path d=\"M18.56 5.44l.94 2.06.94-2.06 2.06-.94-2.06-.94-.94-2.06-.94 2.06-2.06.94zm-11 1L8.5 8.5l.94-2.06 2.06-.94-2.06-.94L8.5 2.5l-.94 2.06-2.06.94zm10 10l.94 2.06.94-2.06 2.06-.94-2.06-.94-.94-2.06-.94 2.06-2.06.94z\"/><path d=\"M17.41 7.96l-1.37-1.37c-.4-.4-.92-.59-1.43-.59-.52 0-1.04.2-1.43.59L10.3 9.45l-7.72 7.72c-.78.78-.78 2.05 0 2.83L4 21.41c.39.39.9.59 1.41.59.51 0 1.02-.2 1.41-.59l7.78-7.78 2.81-2.81c.8-.78.8-2.07 0-2.86zM5.41 20L4 18.59l7.72-7.72 1.47 1.35L5.41 20z\"/>\n",
              "  </svg>\n",
              "      </button>\n",
              "      \n",
              "  <style>\n",
              "    .colab-df-container {\n",
              "      display:flex;\n",
              "      flex-wrap:wrap;\n",
              "      gap: 12px;\n",
              "    }\n",
              "\n",
              "    .colab-df-convert {\n",
              "      background-color: #E8F0FE;\n",
              "      border: none;\n",
              "      border-radius: 50%;\n",
              "      cursor: pointer;\n",
              "      display: none;\n",
              "      fill: #1967D2;\n",
              "      height: 32px;\n",
              "      padding: 0 0 0 0;\n",
              "      width: 32px;\n",
              "    }\n",
              "\n",
              "    .colab-df-convert:hover {\n",
              "      background-color: #E2EBFA;\n",
              "      box-shadow: 0px 1px 2px rgba(60, 64, 67, 0.3), 0px 1px 3px 1px rgba(60, 64, 67, 0.15);\n",
              "      fill: #174EA6;\n",
              "    }\n",
              "\n",
              "    [theme=dark] .colab-df-convert {\n",
              "      background-color: #3B4455;\n",
              "      fill: #D2E3FC;\n",
              "    }\n",
              "\n",
              "    [theme=dark] .colab-df-convert:hover {\n",
              "      background-color: #434B5C;\n",
              "      box-shadow: 0px 1px 3px 1px rgba(0, 0, 0, 0.15);\n",
              "      filter: drop-shadow(0px 1px 2px rgba(0, 0, 0, 0.3));\n",
              "      fill: #FFFFFF;\n",
              "    }\n",
              "  </style>\n",
              "\n",
              "      <script>\n",
              "        const buttonEl =\n",
              "          document.querySelector('#df-6b0185f0-0eda-4d3c-b6af-b1c2b0242529 button.colab-df-convert');\n",
              "        buttonEl.style.display =\n",
              "          google.colab.kernel.accessAllowed ? 'block' : 'none';\n",
              "\n",
              "        async function convertToInteractive(key) {\n",
              "          const element = document.querySelector('#df-6b0185f0-0eda-4d3c-b6af-b1c2b0242529');\n",
              "          const dataTable =\n",
              "            await google.colab.kernel.invokeFunction('convertToInteractive',\n",
              "                                                     [key], {});\n",
              "          if (!dataTable) return;\n",
              "\n",
              "          const docLinkHtml = 'Like what you see? Visit the ' +\n",
              "            '<a target=\"_blank\" href=https://colab.research.google.com/notebooks/data_table.ipynb>data table notebook</a>'\n",
              "            + ' to learn more about interactive tables.';\n",
              "          element.innerHTML = '';\n",
              "          dataTable['output_type'] = 'display_data';\n",
              "          await google.colab.output.renderOutput(dataTable, element);\n",
              "          const docLink = document.createElement('div');\n",
              "          docLink.innerHTML = docLinkHtml;\n",
              "          element.appendChild(docLink);\n",
              "        }\n",
              "      </script>\n",
              "    </div>\n",
              "  </div>\n",
              "  "
            ]
          },
          "metadata": {},
          "execution_count": 91
        }
      ]
    },
    {
      "cell_type": "code",
      "source": [
        "# 종속변수 더미화\n",
        "df.loc[ df[\"Generatedpower\"] < 1085 , \"Generatedpower\"] = 100"
      ],
      "metadata": {
        "id": "nSkbPqyqG-Mb"
      },
      "execution_count": null,
      "outputs": []
    },
    {
      "cell_type": "code",
      "source": [
        "df[\"Generatedpower\"].value_counts()"
      ],
      "metadata": {
        "colab": {
          "base_uri": "https://localhost:8080/"
        },
        "id": "Tqty5-IRHzmg",
        "outputId": "c6764263-79d6-4d0e-87fd-ec8948967de9"
      },
      "execution_count": null,
      "outputs": [
        {
          "output_type": "execute_result",
          "data": {
            "text/plain": [
              "100.0000     223\n",
              "2137.6800     14\n",
              "2013.5000      2\n",
              "2015.2500      2\n",
              "2601.0000      2\n",
              "            ... \n",
              "2291.7500      1\n",
              "2581.1250      1\n",
              "2799.3125      1\n",
              "2839.6250      1\n",
              "2639.2500      1\n",
              "Name: Generatedpower, Length: 1104, dtype: int64"
            ]
          },
          "metadata": {},
          "execution_count": 93
        }
      ]
    },
    {
      "cell_type": "code",
      "source": [
        "df.loc[ (df[\"Generatedpower\"] >= 1085) & (df[\"Generatedpower\"] < 2085), \"Generatedpower\"] = 1100"
      ],
      "metadata": {
        "id": "l1fVCtWmIbAH"
      },
      "execution_count": null,
      "outputs": []
    },
    {
      "cell_type": "code",
      "source": [
        "df.loc[ (df[\"Generatedpower\"] >= 2085) & (df[\"Generatedpower\"] < 3085), \"Generatedpower\"] = 2100"
      ],
      "metadata": {
        "id": "PXpPcpSpI4_S"
      },
      "execution_count": null,
      "outputs": []
    },
    {
      "cell_type": "code",
      "source": [
        "df.loc[ (df[\"Generatedpower\"] >= 3085) & (df[\"Generatedpower\"] < 4085), \"Generatedpower\"] = 3100"
      ],
      "metadata": {
        "id": "vIFyzL_jJjiI"
      },
      "execution_count": null,
      "outputs": []
    },
    {
      "cell_type": "code",
      "source": [
        "df[\"Generatedpower\"].value_counts()"
      ],
      "metadata": {
        "colab": {
          "base_uri": "https://localhost:8080/"
        },
        "id": "Vr2c29DUJmUN",
        "outputId": "9052e861-aa01-4d9f-bf61-7a1f4a5b7f19"
      },
      "execution_count": null,
      "outputs": [
        {
          "output_type": "execute_result",
          "data": {
            "text/plain": [
              "2100.0    523\n",
              "1100.0    367\n",
              "3100.0    242\n",
              "100.0     223\n",
              "Name: Generatedpower, dtype: int64"
            ]
          },
          "metadata": {},
          "execution_count": 97
        }
      ]
    },
    {
      "cell_type": "code",
      "source": [
        ""
      ],
      "metadata": {
        "id": "DZ9l9u7ZKRm-"
      },
      "execution_count": null,
      "outputs": []
    },
    {
      "cell_type": "code",
      "source": [
        ""
      ],
      "metadata": {
        "id": "L6-p2unUKRk2"
      },
      "execution_count": null,
      "outputs": []
    },
    {
      "cell_type": "code",
      "source": [
        ""
      ],
      "metadata": {
        "id": "ouQnHZ5xKRiy"
      },
      "execution_count": null,
      "outputs": []
    },
    {
      "cell_type": "code",
      "source": [
        ""
      ],
      "metadata": {
        "id": "t--hkaRZKRg6"
      },
      "execution_count": null,
      "outputs": []
    },
    {
      "cell_type": "code",
      "source": [
        ""
      ],
      "metadata": {
        "id": "PtzyT-p9KRe0"
      },
      "execution_count": null,
      "outputs": []
    },
    {
      "cell_type": "markdown",
      "source": [
        "#  와,,, 이래서 프로젝트 하라는 말이구나\n",
        "### 사용자 지정함수 + apply 완벽 적용"
      ],
      "metadata": {
        "id": "MMBiJkU4KQph"
      }
    },
    {
      "cell_type": "code",
      "source": [
        "def filtering(x):\n",
        "  if(x < 1085):\n",
        "    return 'A'\n",
        "  elif(1085 <= x < 2085):\n",
        "    return 'B'\n",
        "  elif(2085 <= x < 3085):\n",
        "    return 'C'\n",
        "  else:\n",
        "    return 'D'"
      ],
      "metadata": {
        "id": "Ejh5W7_EJnby"
      },
      "execution_count": null,
      "outputs": []
    },
    {
      "cell_type": "code",
      "source": [
        "df[\"Generatedpower\"] = df[\"Generatedpower\"].apply(filtering)"
      ],
      "metadata": {
        "id": "x7OxK0gEKGYu"
      },
      "execution_count": null,
      "outputs": []
    },
    {
      "cell_type": "code",
      "source": [
        "df[\"Generatedpower\"].value_counts()"
      ],
      "metadata": {
        "colab": {
          "base_uri": "https://localhost:8080/"
        },
        "id": "_Qpr4iaxKLnI",
        "outputId": "c54b42e8-4669-4d5d-c800-faeefcec0fab"
      },
      "execution_count": null,
      "outputs": [
        {
          "output_type": "execute_result",
          "data": {
            "text/plain": [
              "C    523\n",
              "B    367\n",
              "D    242\n",
              "A    223\n",
              "Name: Generatedpower, dtype: int64"
            ]
          },
          "metadata": {},
          "execution_count": 101
        }
      ]
    },
    {
      "cell_type": "code",
      "source": [
        "df"
      ],
      "metadata": {
        "colab": {
          "base_uri": "https://localhost:8080/",
          "height": 424
        },
        "id": "mV9GsLieKO_1",
        "outputId": "cf1c32dc-f899-4e31-f855-991c6823313c"
      },
      "execution_count": null,
      "outputs": [
        {
          "output_type": "execute_result",
          "data": {
            "text/plain": [
              "     Date Generatedpower  AveragePM10  Averagecloud  Hightemp WeatherForecast  \\\n",
              "0      겨울              C    62.470588      0.000000       8.6              맑음   \n",
              "1      겨울              C    44.529412      2.411765       8.1              맑음   \n",
              "2      겨울              C    38.882353      0.352941      10.8              맑음   \n",
              "3      겨울              A    37.176471      7.352941       6.7              흐림   \n",
              "4      겨울              C    35.823529      2.411765       3.5              맑음   \n",
              "...   ...            ...          ...           ...       ...             ...   \n",
              "1350   가을              C    20.176471      1.588235      23.0              맑음   \n",
              "1351   가을              C    24.000000      0.117647      22.3              맑음   \n",
              "1352   가을              C    25.000000      3.058824      23.0              구름   \n",
              "1353   가을              C    19.058824      2.176471      23.3              맑음   \n",
              "1354   가을              C    21.117647      1.529412      22.1              맑음   \n",
              "\n",
              "      HumidityForecast  Rain      Sight  Sunlight  \n",
              "0            51.000000   0.0  10.357143   13.5526  \n",
              "1            44.571429   0.0  14.714286   13.1526  \n",
              "2            37.000000   0.0  10.671429   13.6300  \n",
              "3            99.000000   4.0   9.385714    2.4199  \n",
              "4            54.571429   0.0  13.371429   12.2054  \n",
              "...                ...   ...        ...       ...  \n",
              "1350         40.285714   0.0  13.285714   17.6437  \n",
              "1351         41.571429   0.0  14.000000   20.1938  \n",
              "1352         41.000000   0.0  14.457143   19.6520  \n",
              "1353         47.285714   0.0  14.142857   17.0335  \n",
              "1354         47.571429   0.0  13.500000   15.9786  \n",
              "\n",
              "[1355 rows x 10 columns]"
            ],
            "text/html": [
              "\n",
              "  <div id=\"df-8078f123-1827-4fff-9490-5f6142e809a9\">\n",
              "    <div class=\"colab-df-container\">\n",
              "      <div>\n",
              "<style scoped>\n",
              "    .dataframe tbody tr th:only-of-type {\n",
              "        vertical-align: middle;\n",
              "    }\n",
              "\n",
              "    .dataframe tbody tr th {\n",
              "        vertical-align: top;\n",
              "    }\n",
              "\n",
              "    .dataframe thead th {\n",
              "        text-align: right;\n",
              "    }\n",
              "</style>\n",
              "<table border=\"1\" class=\"dataframe\">\n",
              "  <thead>\n",
              "    <tr style=\"text-align: right;\">\n",
              "      <th></th>\n",
              "      <th>Date</th>\n",
              "      <th>Generatedpower</th>\n",
              "      <th>AveragePM10</th>\n",
              "      <th>Averagecloud</th>\n",
              "      <th>Hightemp</th>\n",
              "      <th>WeatherForecast</th>\n",
              "      <th>HumidityForecast</th>\n",
              "      <th>Rain</th>\n",
              "      <th>Sight</th>\n",
              "      <th>Sunlight</th>\n",
              "    </tr>\n",
              "  </thead>\n",
              "  <tbody>\n",
              "    <tr>\n",
              "      <th>0</th>\n",
              "      <td>겨울</td>\n",
              "      <td>C</td>\n",
              "      <td>62.470588</td>\n",
              "      <td>0.000000</td>\n",
              "      <td>8.6</td>\n",
              "      <td>맑음</td>\n",
              "      <td>51.000000</td>\n",
              "      <td>0.0</td>\n",
              "      <td>10.357143</td>\n",
              "      <td>13.5526</td>\n",
              "    </tr>\n",
              "    <tr>\n",
              "      <th>1</th>\n",
              "      <td>겨울</td>\n",
              "      <td>C</td>\n",
              "      <td>44.529412</td>\n",
              "      <td>2.411765</td>\n",
              "      <td>8.1</td>\n",
              "      <td>맑음</td>\n",
              "      <td>44.571429</td>\n",
              "      <td>0.0</td>\n",
              "      <td>14.714286</td>\n",
              "      <td>13.1526</td>\n",
              "    </tr>\n",
              "    <tr>\n",
              "      <th>2</th>\n",
              "      <td>겨울</td>\n",
              "      <td>C</td>\n",
              "      <td>38.882353</td>\n",
              "      <td>0.352941</td>\n",
              "      <td>10.8</td>\n",
              "      <td>맑음</td>\n",
              "      <td>37.000000</td>\n",
              "      <td>0.0</td>\n",
              "      <td>10.671429</td>\n",
              "      <td>13.6300</td>\n",
              "    </tr>\n",
              "    <tr>\n",
              "      <th>3</th>\n",
              "      <td>겨울</td>\n",
              "      <td>A</td>\n",
              "      <td>37.176471</td>\n",
              "      <td>7.352941</td>\n",
              "      <td>6.7</td>\n",
              "      <td>흐림</td>\n",
              "      <td>99.000000</td>\n",
              "      <td>4.0</td>\n",
              "      <td>9.385714</td>\n",
              "      <td>2.4199</td>\n",
              "    </tr>\n",
              "    <tr>\n",
              "      <th>4</th>\n",
              "      <td>겨울</td>\n",
              "      <td>C</td>\n",
              "      <td>35.823529</td>\n",
              "      <td>2.411765</td>\n",
              "      <td>3.5</td>\n",
              "      <td>맑음</td>\n",
              "      <td>54.571429</td>\n",
              "      <td>0.0</td>\n",
              "      <td>13.371429</td>\n",
              "      <td>12.2054</td>\n",
              "    </tr>\n",
              "    <tr>\n",
              "      <th>...</th>\n",
              "      <td>...</td>\n",
              "      <td>...</td>\n",
              "      <td>...</td>\n",
              "      <td>...</td>\n",
              "      <td>...</td>\n",
              "      <td>...</td>\n",
              "      <td>...</td>\n",
              "      <td>...</td>\n",
              "      <td>...</td>\n",
              "      <td>...</td>\n",
              "    </tr>\n",
              "    <tr>\n",
              "      <th>1350</th>\n",
              "      <td>가을</td>\n",
              "      <td>C</td>\n",
              "      <td>20.176471</td>\n",
              "      <td>1.588235</td>\n",
              "      <td>23.0</td>\n",
              "      <td>맑음</td>\n",
              "      <td>40.285714</td>\n",
              "      <td>0.0</td>\n",
              "      <td>13.285714</td>\n",
              "      <td>17.6437</td>\n",
              "    </tr>\n",
              "    <tr>\n",
              "      <th>1351</th>\n",
              "      <td>가을</td>\n",
              "      <td>C</td>\n",
              "      <td>24.000000</td>\n",
              "      <td>0.117647</td>\n",
              "      <td>22.3</td>\n",
              "      <td>맑음</td>\n",
              "      <td>41.571429</td>\n",
              "      <td>0.0</td>\n",
              "      <td>14.000000</td>\n",
              "      <td>20.1938</td>\n",
              "    </tr>\n",
              "    <tr>\n",
              "      <th>1352</th>\n",
              "      <td>가을</td>\n",
              "      <td>C</td>\n",
              "      <td>25.000000</td>\n",
              "      <td>3.058824</td>\n",
              "      <td>23.0</td>\n",
              "      <td>구름</td>\n",
              "      <td>41.000000</td>\n",
              "      <td>0.0</td>\n",
              "      <td>14.457143</td>\n",
              "      <td>19.6520</td>\n",
              "    </tr>\n",
              "    <tr>\n",
              "      <th>1353</th>\n",
              "      <td>가을</td>\n",
              "      <td>C</td>\n",
              "      <td>19.058824</td>\n",
              "      <td>2.176471</td>\n",
              "      <td>23.3</td>\n",
              "      <td>맑음</td>\n",
              "      <td>47.285714</td>\n",
              "      <td>0.0</td>\n",
              "      <td>14.142857</td>\n",
              "      <td>17.0335</td>\n",
              "    </tr>\n",
              "    <tr>\n",
              "      <th>1354</th>\n",
              "      <td>가을</td>\n",
              "      <td>C</td>\n",
              "      <td>21.117647</td>\n",
              "      <td>1.529412</td>\n",
              "      <td>22.1</td>\n",
              "      <td>맑음</td>\n",
              "      <td>47.571429</td>\n",
              "      <td>0.0</td>\n",
              "      <td>13.500000</td>\n",
              "      <td>15.9786</td>\n",
              "    </tr>\n",
              "  </tbody>\n",
              "</table>\n",
              "<p>1355 rows × 10 columns</p>\n",
              "</div>\n",
              "      <button class=\"colab-df-convert\" onclick=\"convertToInteractive('df-8078f123-1827-4fff-9490-5f6142e809a9')\"\n",
              "              title=\"Convert this dataframe to an interactive table.\"\n",
              "              style=\"display:none;\">\n",
              "        \n",
              "  <svg xmlns=\"http://www.w3.org/2000/svg\" height=\"24px\"viewBox=\"0 0 24 24\"\n",
              "       width=\"24px\">\n",
              "    <path d=\"M0 0h24v24H0V0z\" fill=\"none\"/>\n",
              "    <path d=\"M18.56 5.44l.94 2.06.94-2.06 2.06-.94-2.06-.94-.94-2.06-.94 2.06-2.06.94zm-11 1L8.5 8.5l.94-2.06 2.06-.94-2.06-.94L8.5 2.5l-.94 2.06-2.06.94zm10 10l.94 2.06.94-2.06 2.06-.94-2.06-.94-.94-2.06-.94 2.06-2.06.94z\"/><path d=\"M17.41 7.96l-1.37-1.37c-.4-.4-.92-.59-1.43-.59-.52 0-1.04.2-1.43.59L10.3 9.45l-7.72 7.72c-.78.78-.78 2.05 0 2.83L4 21.41c.39.39.9.59 1.41.59.51 0 1.02-.2 1.41-.59l7.78-7.78 2.81-2.81c.8-.78.8-2.07 0-2.86zM5.41 20L4 18.59l7.72-7.72 1.47 1.35L5.41 20z\"/>\n",
              "  </svg>\n",
              "      </button>\n",
              "      \n",
              "  <style>\n",
              "    .colab-df-container {\n",
              "      display:flex;\n",
              "      flex-wrap:wrap;\n",
              "      gap: 12px;\n",
              "    }\n",
              "\n",
              "    .colab-df-convert {\n",
              "      background-color: #E8F0FE;\n",
              "      border: none;\n",
              "      border-radius: 50%;\n",
              "      cursor: pointer;\n",
              "      display: none;\n",
              "      fill: #1967D2;\n",
              "      height: 32px;\n",
              "      padding: 0 0 0 0;\n",
              "      width: 32px;\n",
              "    }\n",
              "\n",
              "    .colab-df-convert:hover {\n",
              "      background-color: #E2EBFA;\n",
              "      box-shadow: 0px 1px 2px rgba(60, 64, 67, 0.3), 0px 1px 3px 1px rgba(60, 64, 67, 0.15);\n",
              "      fill: #174EA6;\n",
              "    }\n",
              "\n",
              "    [theme=dark] .colab-df-convert {\n",
              "      background-color: #3B4455;\n",
              "      fill: #D2E3FC;\n",
              "    }\n",
              "\n",
              "    [theme=dark] .colab-df-convert:hover {\n",
              "      background-color: #434B5C;\n",
              "      box-shadow: 0px 1px 3px 1px rgba(0, 0, 0, 0.15);\n",
              "      filter: drop-shadow(0px 1px 2px rgba(0, 0, 0, 0.3));\n",
              "      fill: #FFFFFF;\n",
              "    }\n",
              "  </style>\n",
              "\n",
              "      <script>\n",
              "        const buttonEl =\n",
              "          document.querySelector('#df-8078f123-1827-4fff-9490-5f6142e809a9 button.colab-df-convert');\n",
              "        buttonEl.style.display =\n",
              "          google.colab.kernel.accessAllowed ? 'block' : 'none';\n",
              "\n",
              "        async function convertToInteractive(key) {\n",
              "          const element = document.querySelector('#df-8078f123-1827-4fff-9490-5f6142e809a9');\n",
              "          const dataTable =\n",
              "            await google.colab.kernel.invokeFunction('convertToInteractive',\n",
              "                                                     [key], {});\n",
              "          if (!dataTable) return;\n",
              "\n",
              "          const docLinkHtml = 'Like what you see? Visit the ' +\n",
              "            '<a target=\"_blank\" href=https://colab.research.google.com/notebooks/data_table.ipynb>data table notebook</a>'\n",
              "            + ' to learn more about interactive tables.';\n",
              "          element.innerHTML = '';\n",
              "          dataTable['output_type'] = 'display_data';\n",
              "          await google.colab.output.renderOutput(dataTable, element);\n",
              "          const docLink = document.createElement('div');\n",
              "          docLink.innerHTML = docLinkHtml;\n",
              "          element.appendChild(docLink);\n",
              "        }\n",
              "      </script>\n",
              "    </div>\n",
              "  </div>\n",
              "  "
            ]
          },
          "metadata": {},
          "execution_count": 102
        }
      ]
    },
    {
      "cell_type": "code",
      "source": [
        "# 기본 전처리에 해당하는 전처리 1), 2)\n",
        "df.at[df[\"Rain\"] > 0, \"Rain\"] = 1\n",
        "df.at[df[\"AveragePM10\"] == -1, \"AveragePM10\"] = 0"
      ],
      "metadata": {
        "id": "sZ6M3hHvKapv"
      },
      "execution_count": null,
      "outputs": []
    },
    {
      "cell_type": "code",
      "source": [
        "# 4)\n",
        "df_Scaled = df.loc[:, [\"AveragePM10\", \"Averagecloud\", \"Sight\"]]\n",
        "feature = ['AveragePM10', 'Averagecloud', 'Sight']\n",
        "\n",
        "scaler = StandardScaler()\n",
        "scaler.fit(df_Scaled)\n",
        "df_Scaled_Result = scaler.transform(df_Scaled)\n",
        "scaled_Result_Df = pd.DataFrame(df_Scaled_Result, columns = feature)\n",
        "df_Main = df.drop(columns=['AveragePM10', 'Averagecloud', 'Sight'], axis = 1)\n",
        "df_Total = pd.concat([df_Main, scaled_Result_Df], axis = 1)"
      ],
      "metadata": {
        "id": "9nlKs19rKftS"
      },
      "execution_count": null,
      "outputs": []
    },
    {
      "cell_type": "code",
      "source": [
        "# + 날씨\n",
        "df_Total = pd.get_dummies(df_Total, columns = ['WeatherForecast', \"Date\"])"
      ],
      "metadata": {
        "id": "oZw275a4KiLa"
      },
      "execution_count": null,
      "outputs": []
    },
    {
      "cell_type": "code",
      "source": [
        "# 다중공선성은 하지 말자\n",
        "#df_Total.drop(\"Averagecloud\", axis = 1, inplace=True)"
      ],
      "metadata": {
        "id": "sbGYd2nyKmm7"
      },
      "execution_count": null,
      "outputs": []
    },
    {
      "cell_type": "code",
      "source": [
        "X = df_Total.drop([\"Generatedpower\"], axis=1)\n",
        "y = df_Total[\"Generatedpower\"]\n",
        "X_train, X_valid, y_train, y_valid = train_test_split(X, y, test_size = 0.2, random_state = 34)"
      ],
      "metadata": {
        "id": "QpvCQq-MKp_i"
      },
      "execution_count": null,
      "outputs": []
    },
    {
      "cell_type": "code",
      "source": [
        "from lightgbm import LGBMClassifier\n",
        "\n",
        "lgbm_model = LGBMClassifier()\n",
        "lgbm_model.fit(X_train, y_train,verbose=True)\n",
        "\n",
        "score = lgbm_model.score(X_valid, y_valid)\n",
        "print(score)"
      ],
      "metadata": {
        "colab": {
          "base_uri": "https://localhost:8080/"
        },
        "id": "jYb-HVBPKseX",
        "outputId": "e8a8a7aa-4bae-4a12-b55d-d9cd9e496353"
      },
      "execution_count": null,
      "outputs": [
        {
          "output_type": "stream",
          "name": "stdout",
          "text": [
            "0.7343173431734318\n"
          ]
        }
      ]
    },
    {
      "cell_type": "code",
      "source": [
        ""
      ],
      "metadata": {
        "id": "Y-OCobYhKxs2"
      },
      "execution_count": null,
      "outputs": []
    },
    {
      "cell_type": "code",
      "source": [
        ""
      ],
      "metadata": {
        "id": "frpYuqrIK-wa"
      },
      "execution_count": null,
      "outputs": []
    },
    {
      "cell_type": "code",
      "source": [
        ""
      ],
      "metadata": {
        "id": "s4lN1OdNK-uA"
      },
      "execution_count": null,
      "outputs": []
    },
    {
      "cell_type": "markdown",
      "source": [
        "# 종속변수 + 구름으로 더미화"
      ],
      "metadata": {
        "id": "kK4C9om-LFui"
      }
    },
    {
      "cell_type": "code",
      "source": [
        "df = pd.read_excel(\"/content/drive/MyDrive/프로그래밍 언어 공부 자료/인공지능/2022 데청캠/강의 자료/6일차/2022 데이터 청년 캠퍼스 6일차 과제(신규식, 한상범)/456일차 PL/데이터/SolarPv(구름) - 복사본.xlsx\")"
      ],
      "metadata": {
        "id": "tCILpiJZK-rf"
      },
      "execution_count": null,
      "outputs": []
    },
    {
      "cell_type": "code",
      "source": [
        "df[\"Generatedpower\"] = df[\"Generatedpower\"].apply(filtering)"
      ],
      "metadata": {
        "id": "bZdU0HhaLNcP"
      },
      "execution_count": null,
      "outputs": []
    },
    {
      "cell_type": "code",
      "source": [
        "# 기본 전처리에 해당하는 전처리 1), 2)\n",
        "df.at[df[\"Rain\"] > 0, \"Rain\"] = 1\n",
        "df.at[df[\"AveragePM10\"] == -1, \"AveragePM10\"] = 0"
      ],
      "metadata": {
        "id": "cN-ySzZsLN00"
      },
      "execution_count": null,
      "outputs": []
    },
    {
      "cell_type": "code",
      "source": [
        "# 4)\n",
        "df_Scaled = df.loc[:, [\"AveragePM10\", \"Sight\"]]\n",
        "feature = ['AveragePM10', 'Sight']\n",
        "\n",
        "scaler = StandardScaler()\n",
        "scaler.fit(df_Scaled)\n",
        "df_Scaled_Result = scaler.transform(df_Scaled)\n",
        "scaled_Result_Df = pd.DataFrame(df_Scaled_Result, columns = feature)\n",
        "df_Main = df.drop(columns=['AveragePM10', 'Sight'], axis = 1)\n",
        "df_Total = pd.concat([df_Main, scaled_Result_Df], axis = 1)"
      ],
      "metadata": {
        "id": "LT6CgVk8LQ2U"
      },
      "execution_count": null,
      "outputs": []
    },
    {
      "cell_type": "code",
      "source": [
        "# + 날씨\n",
        "df_Total = pd.get_dummies(df_Total, columns = ['WeatherForecast', \"Averagecloud\"])"
      ],
      "metadata": {
        "id": "NcQzrbZYLU_N"
      },
      "execution_count": null,
      "outputs": []
    },
    {
      "cell_type": "code",
      "source": [
        "df_Total['Date'] = pd.to_datetime(df_Total['Date'])\n",
        "df_Total['year'] = df_Total[\"Date\"].dt.year\n",
        "df_Total['month'] = df_Total[\"Date\"].dt.month\n",
        "df_Total['day'] = df_Total[\"Date\"].dt.day\n",
        "df_Total.drop([\"Date\"], axis = 1, inplace=True)"
      ],
      "metadata": {
        "id": "TA0tE-pKLYkt"
      },
      "execution_count": null,
      "outputs": []
    },
    {
      "cell_type": "code",
      "source": [
        "X = df_Total.drop([\"Generatedpower\"], axis=1)\n",
        "y = df_Total[\"Generatedpower\"]\n",
        "X_train, X_valid, y_train, y_valid = train_test_split(X, y, test_size = 0.2, random_state = 34)"
      ],
      "metadata": {
        "id": "YZLrYQaKLcAE"
      },
      "execution_count": null,
      "outputs": []
    },
    {
      "cell_type": "code",
      "source": [
        "from lightgbm import LGBMClassifier\n",
        "\n",
        "lgbm_model = LGBMClassifier()\n",
        "lgbm_model.fit(X_train, y_train,verbose=True)\n",
        "\n",
        "score = lgbm_model.score(X_valid, y_valid)\n",
        "print(score)"
      ],
      "metadata": {
        "colab": {
          "base_uri": "https://localhost:8080/"
        },
        "id": "nOj9VhWZLfFC",
        "outputId": "20abaf66-02d4-47ca-9ca4-882220b0488d"
      },
      "execution_count": null,
      "outputs": [
        {
          "output_type": "stream",
          "name": "stdout",
          "text": [
            "0.7638376383763837\n"
          ]
        }
      ]
    },
    {
      "cell_type": "code",
      "source": [
        "# wow 3퍼나 오름"
      ],
      "metadata": {
        "id": "JPdkVMUqLgV6"
      },
      "execution_count": null,
      "outputs": []
    },
    {
      "cell_type": "code",
      "source": [
        ""
      ],
      "metadata": {
        "id": "Py5lNK0NO_6S"
      },
      "execution_count": null,
      "outputs": []
    },
    {
      "cell_type": "code",
      "source": [
        ""
      ],
      "metadata": {
        "id": "btBzRZyhO_4C"
      },
      "execution_count": null,
      "outputs": []
    },
    {
      "cell_type": "code",
      "source": [
        ""
      ],
      "metadata": {
        "id": "a2xPyzIfO_1y"
      },
      "execution_count": null,
      "outputs": []
    },
    {
      "cell_type": "code",
      "source": [
        ""
      ],
      "metadata": {
        "id": "DAXzMHclO_zK"
      },
      "execution_count": null,
      "outputs": []
    },
    {
      "cell_type": "code",
      "source": [
        ""
      ],
      "metadata": {
        "id": "9CcBYATBPAQL"
      },
      "execution_count": null,
      "outputs": []
    },
    {
      "cell_type": "markdown",
      "source": [
        "# 종속 + 습도별 더미화"
      ],
      "metadata": {
        "id": "KMjU6dnMPAvq"
      }
    },
    {
      "cell_type": "code",
      "source": [
        "df = pd.read_excel(\"/content/drive/MyDrive/프로그래밍 언어 공부 자료/인공지능/2022 데청캠/강의 자료/6일차/2022 데이터 청년 캠퍼스 6일차 과제(신규식, 한상범)/456일차 PL/데이터/SolarPv(습도) - 복사본.xlsx\")"
      ],
      "metadata": {
        "id": "7GlL3AaiPGGF"
      },
      "execution_count": null,
      "outputs": []
    },
    {
      "cell_type": "code",
      "source": [
        "df[\"Generatedpower\"] = df[\"Generatedpower\"].apply(filtering)"
      ],
      "metadata": {
        "id": "btCMwNd4PMzO"
      },
      "execution_count": null,
      "outputs": []
    },
    {
      "cell_type": "code",
      "source": [
        "# 기본 전처리에 해당하는 전처리 1), 2)\n",
        "df.at[df[\"Rain\"] > 0, \"Rain\"] = 1\n",
        "df.at[df[\"AveragePM10\"] == -1, \"AveragePM10\"] = 0"
      ],
      "metadata": {
        "id": "CJBKZUonPPKc"
      },
      "execution_count": null,
      "outputs": []
    },
    {
      "cell_type": "code",
      "source": [
        "# 4)\n",
        "df_Scaled = df.loc[:, [\"AveragePM10\", \"Averagecloud\", \"Sight\"]]\n",
        "feature = ['AveragePM10', 'Averagecloud', 'Sight']\n",
        "\n",
        "scaler = StandardScaler()\n",
        "scaler.fit(df_Scaled)\n",
        "df_Scaled_Result = scaler.transform(df_Scaled)\n",
        "scaled_Result_Df = pd.DataFrame(df_Scaled_Result, columns = feature)\n",
        "df_Main = df.drop(columns=['AveragePM10', 'Averagecloud', 'Sight'], axis = 1)\n",
        "df_Total = pd.concat([df_Main, scaled_Result_Df], axis = 1)"
      ],
      "metadata": {
        "id": "NggJlvrLPTAP"
      },
      "execution_count": null,
      "outputs": []
    },
    {
      "cell_type": "code",
      "source": [
        "# + 날씨\n",
        "df_Total = pd.get_dummies(df_Total, columns = ['WeatherForecast', \"HumidityForecast\"])"
      ],
      "metadata": {
        "id": "pYmHnQ6XPU48"
      },
      "execution_count": null,
      "outputs": []
    },
    {
      "cell_type": "code",
      "source": [
        "df_Total['Date'] = pd.to_datetime(df_Total['Date'])\n",
        "df_Total['year'] = df_Total[\"Date\"].dt.year\n",
        "df_Total['month'] = df_Total[\"Date\"].dt.month\n",
        "df_Total['day'] = df_Total[\"Date\"].dt.day\n",
        "df_Total.drop([\"Date\"], axis = 1, inplace=True)"
      ],
      "metadata": {
        "id": "LkArzIAYPYN2"
      },
      "execution_count": null,
      "outputs": []
    },
    {
      "cell_type": "code",
      "source": [
        "X = df_Total.drop([\"Generatedpower\"], axis=1)\n",
        "y = df_Total[\"Generatedpower\"]\n",
        "X_train, X_valid, y_train, y_valid = train_test_split(X, y, test_size = 0.2, random_state = 34)"
      ],
      "metadata": {
        "id": "pviaPKx7PcPw"
      },
      "execution_count": null,
      "outputs": []
    },
    {
      "cell_type": "code",
      "source": [
        "from lightgbm import LGBMClassifier\n",
        "\n",
        "lgbm_model = LGBMClassifier()\n",
        "lgbm_model.fit(X_train, y_train,verbose=True)\n",
        "\n",
        "score = lgbm_model.score(X_valid, y_valid)\n",
        "print(score)"
      ],
      "metadata": {
        "colab": {
          "base_uri": "https://localhost:8080/"
        },
        "id": "QDCb2AAaPgXt",
        "outputId": "faf4a95c-4ab3-4fa8-ac5f-4cba84c5a9e8"
      },
      "execution_count": null,
      "outputs": [
        {
          "output_type": "stream",
          "name": "stdout",
          "text": [
            "0.7712177121771218\n"
          ]
        }
      ]
    },
    {
      "cell_type": "code",
      "source": [
        "# 77~~~~~ 4퍼나 오름"
      ],
      "metadata": {
        "id": "W4PsHUigPhtS"
      },
      "execution_count": null,
      "outputs": []
    }
  ]
}
