{
  "nbformat": 4,
  "nbformat_minor": 0,
  "metadata": {
    "colab": {
      "name": "2.인공신경망(ANN)_mpg.ipynb",
      "provenance": [],
      "collapsed_sections": []
    },
    "kernelspec": {
      "name": "python3",
      "display_name": "Python 3"
    },
    "language_info": {
      "name": "python"
    }
  },
  "cells": [
    {
      "cell_type": "markdown",
      "source": [
        "1. MPG 데이터 불러오기"
      ],
      "metadata": {
        "id": "47trAEMNiqSc"
      }
    },
    {
      "cell_type": "code",
      "execution_count": null,
      "metadata": {
        "colab": {
          "base_uri": "https://localhost:8080/",
          "height": 206
        },
        "id": "WZ07q6aOgBuo",
        "outputId": "014b1078-10d3-4d5b-cf89-af3fe8fef3f2"
      },
      "outputs": [
        {
          "output_type": "execute_result",
          "data": {
            "text/plain": [
              "   Cylinders  Displacement  Horsepower  Weight  Acceleration  Model Year  \\\n",
              "0          8         307.0       130.0    3504          12.0          70   \n",
              "1          8         350.0       165.0    3693          11.5          70   \n",
              "2          8         318.0       150.0    3436          11.0          70   \n",
              "3          8         304.0       150.0    3433          12.0          70   \n",
              "4          8         302.0       140.0    3449          10.5          70   \n",
              "\n",
              "   Origin   MPG  \n",
              "0       1  18.0  \n",
              "1       1  15.0  \n",
              "2       1  18.0  \n",
              "3       1  16.0  \n",
              "4       1  17.0  "
            ],
            "text/html": [
              "\n",
              "  <div id=\"df-0c652784-0b00-4ab3-ab6c-b49543dd3d2e\">\n",
              "    <div class=\"colab-df-container\">\n",
              "      <div>\n",
              "<style scoped>\n",
              "    .dataframe tbody tr th:only-of-type {\n",
              "        vertical-align: middle;\n",
              "    }\n",
              "\n",
              "    .dataframe tbody tr th {\n",
              "        vertical-align: top;\n",
              "    }\n",
              "\n",
              "    .dataframe thead th {\n",
              "        text-align: right;\n",
              "    }\n",
              "</style>\n",
              "<table border=\"1\" class=\"dataframe\">\n",
              "  <thead>\n",
              "    <tr style=\"text-align: right;\">\n",
              "      <th></th>\n",
              "      <th>Cylinders</th>\n",
              "      <th>Displacement</th>\n",
              "      <th>Horsepower</th>\n",
              "      <th>Weight</th>\n",
              "      <th>Acceleration</th>\n",
              "      <th>Model Year</th>\n",
              "      <th>Origin</th>\n",
              "      <th>MPG</th>\n",
              "    </tr>\n",
              "  </thead>\n",
              "  <tbody>\n",
              "    <tr>\n",
              "      <th>0</th>\n",
              "      <td>8</td>\n",
              "      <td>307.0</td>\n",
              "      <td>130.0</td>\n",
              "      <td>3504</td>\n",
              "      <td>12.0</td>\n",
              "      <td>70</td>\n",
              "      <td>1</td>\n",
              "      <td>18.0</td>\n",
              "    </tr>\n",
              "    <tr>\n",
              "      <th>1</th>\n",
              "      <td>8</td>\n",
              "      <td>350.0</td>\n",
              "      <td>165.0</td>\n",
              "      <td>3693</td>\n",
              "      <td>11.5</td>\n",
              "      <td>70</td>\n",
              "      <td>1</td>\n",
              "      <td>15.0</td>\n",
              "    </tr>\n",
              "    <tr>\n",
              "      <th>2</th>\n",
              "      <td>8</td>\n",
              "      <td>318.0</td>\n",
              "      <td>150.0</td>\n",
              "      <td>3436</td>\n",
              "      <td>11.0</td>\n",
              "      <td>70</td>\n",
              "      <td>1</td>\n",
              "      <td>18.0</td>\n",
              "    </tr>\n",
              "    <tr>\n",
              "      <th>3</th>\n",
              "      <td>8</td>\n",
              "      <td>304.0</td>\n",
              "      <td>150.0</td>\n",
              "      <td>3433</td>\n",
              "      <td>12.0</td>\n",
              "      <td>70</td>\n",
              "      <td>1</td>\n",
              "      <td>16.0</td>\n",
              "    </tr>\n",
              "    <tr>\n",
              "      <th>4</th>\n",
              "      <td>8</td>\n",
              "      <td>302.0</td>\n",
              "      <td>140.0</td>\n",
              "      <td>3449</td>\n",
              "      <td>10.5</td>\n",
              "      <td>70</td>\n",
              "      <td>1</td>\n",
              "      <td>17.0</td>\n",
              "    </tr>\n",
              "  </tbody>\n",
              "</table>\n",
              "</div>\n",
              "      <button class=\"colab-df-convert\" onclick=\"convertToInteractive('df-0c652784-0b00-4ab3-ab6c-b49543dd3d2e')\"\n",
              "              title=\"Convert this dataframe to an interactive table.\"\n",
              "              style=\"display:none;\">\n",
              "        \n",
              "  <svg xmlns=\"http://www.w3.org/2000/svg\" height=\"24px\"viewBox=\"0 0 24 24\"\n",
              "       width=\"24px\">\n",
              "    <path d=\"M0 0h24v24H0V0z\" fill=\"none\"/>\n",
              "    <path d=\"M18.56 5.44l.94 2.06.94-2.06 2.06-.94-2.06-.94-.94-2.06-.94 2.06-2.06.94zm-11 1L8.5 8.5l.94-2.06 2.06-.94-2.06-.94L8.5 2.5l-.94 2.06-2.06.94zm10 10l.94 2.06.94-2.06 2.06-.94-2.06-.94-.94-2.06-.94 2.06-2.06.94z\"/><path d=\"M17.41 7.96l-1.37-1.37c-.4-.4-.92-.59-1.43-.59-.52 0-1.04.2-1.43.59L10.3 9.45l-7.72 7.72c-.78.78-.78 2.05 0 2.83L4 21.41c.39.39.9.59 1.41.59.51 0 1.02-.2 1.41-.59l7.78-7.78 2.81-2.81c.8-.78.8-2.07 0-2.86zM5.41 20L4 18.59l7.72-7.72 1.47 1.35L5.41 20z\"/>\n",
              "  </svg>\n",
              "      </button>\n",
              "      \n",
              "  <style>\n",
              "    .colab-df-container {\n",
              "      display:flex;\n",
              "      flex-wrap:wrap;\n",
              "      gap: 12px;\n",
              "    }\n",
              "\n",
              "    .colab-df-convert {\n",
              "      background-color: #E8F0FE;\n",
              "      border: none;\n",
              "      border-radius: 50%;\n",
              "      cursor: pointer;\n",
              "      display: none;\n",
              "      fill: #1967D2;\n",
              "      height: 32px;\n",
              "      padding: 0 0 0 0;\n",
              "      width: 32px;\n",
              "    }\n",
              "\n",
              "    .colab-df-convert:hover {\n",
              "      background-color: #E2EBFA;\n",
              "      box-shadow: 0px 1px 2px rgba(60, 64, 67, 0.3), 0px 1px 3px 1px rgba(60, 64, 67, 0.15);\n",
              "      fill: #174EA6;\n",
              "    }\n",
              "\n",
              "    [theme=dark] .colab-df-convert {\n",
              "      background-color: #3B4455;\n",
              "      fill: #D2E3FC;\n",
              "    }\n",
              "\n",
              "    [theme=dark] .colab-df-convert:hover {\n",
              "      background-color: #434B5C;\n",
              "      box-shadow: 0px 1px 3px 1px rgba(0, 0, 0, 0.15);\n",
              "      filter: drop-shadow(0px 1px 2px rgba(0, 0, 0, 0.3));\n",
              "      fill: #FFFFFF;\n",
              "    }\n",
              "  </style>\n",
              "\n",
              "      <script>\n",
              "        const buttonEl =\n",
              "          document.querySelector('#df-0c652784-0b00-4ab3-ab6c-b49543dd3d2e button.colab-df-convert');\n",
              "        buttonEl.style.display =\n",
              "          google.colab.kernel.accessAllowed ? 'block' : 'none';\n",
              "\n",
              "        async function convertToInteractive(key) {\n",
              "          const element = document.querySelector('#df-0c652784-0b00-4ab3-ab6c-b49543dd3d2e');\n",
              "          const dataTable =\n",
              "            await google.colab.kernel.invokeFunction('convertToInteractive',\n",
              "                                                     [key], {});\n",
              "          if (!dataTable) return;\n",
              "\n",
              "          const docLinkHtml = 'Like what you see? Visit the ' +\n",
              "            '<a target=\"_blank\" href=https://colab.research.google.com/notebooks/data_table.ipynb>data table notebook</a>'\n",
              "            + ' to learn more about interactive tables.';\n",
              "          element.innerHTML = '';\n",
              "          dataTable['output_type'] = 'display_data';\n",
              "          await google.colab.output.renderOutput(dataTable, element);\n",
              "          const docLink = document.createElement('div');\n",
              "          docLink.innerHTML = docLinkHtml;\n",
              "          element.appendChild(docLink);\n",
              "        }\n",
              "      </script>\n",
              "    </div>\n",
              "  </div>\n",
              "  "
            ]
          },
          "metadata": {},
          "execution_count": 1
        }
      ],
      "source": [
        "import pandas as pd\n",
        "import numpy as np\n",
        "\n",
        "dataset = pd.read_csv('mpg.csv')\n",
        "\n",
        "dataset.head()"
      ]
    },
    {
      "cell_type": "markdown",
      "source": [
        "2. 간단한 데이터 확인 및 전처리"
      ],
      "metadata": {
        "id": "n8oaiIvQi4ZU"
      }
    },
    {
      "cell_type": "code",
      "source": [
        "# 결측치(NULL) 확인\n",
        "dataset.info() "
      ],
      "metadata": {
        "colab": {
          "base_uri": "https://localhost:8080/"
        },
        "id": "KhvWGlTKip1E",
        "outputId": "e12199c4-9914-4f84-b6d1-8f84bff50e2f"
      },
      "execution_count": null,
      "outputs": [
        {
          "output_type": "stream",
          "name": "stdout",
          "text": [
            "<class 'pandas.core.frame.DataFrame'>\n",
            "RangeIndex: 398 entries, 0 to 397\n",
            "Data columns (total 8 columns):\n",
            " #   Column        Non-Null Count  Dtype  \n",
            "---  ------        --------------  -----  \n",
            " 0   Cylinders     398 non-null    int64  \n",
            " 1   Displacement  398 non-null    float64\n",
            " 2   Horsepower    392 non-null    float64\n",
            " 3   Weight        398 non-null    int64  \n",
            " 4   Acceleration  398 non-null    float64\n",
            " 5   Model Year    398 non-null    int64  \n",
            " 6   Origin        398 non-null    int64  \n",
            " 7   MPG           398 non-null    float64\n",
            "dtypes: float64(4), int64(4)\n",
            "memory usage: 25.0 KB\n"
          ]
        }
      ]
    },
    {
      "cell_type": "code",
      "source": [
        "# 결측치 제거\n",
        "\n",
        "# dataset.dropna(inplace=True)\n",
        "dataset.info() "
      ],
      "metadata": {
        "colab": {
          "base_uri": "https://localhost:8080/"
        },
        "id": "DRm8gOodjAQr",
        "outputId": "ad2b69a3-b9a7-4385-ad5e-8a76ff9f0bf5"
      },
      "execution_count": null,
      "outputs": [
        {
          "output_type": "stream",
          "name": "stdout",
          "text": [
            "<class 'pandas.core.frame.DataFrame'>\n",
            "Int64Index: 392 entries, 0 to 397\n",
            "Data columns (total 8 columns):\n",
            " #   Column        Non-Null Count  Dtype  \n",
            "---  ------        --------------  -----  \n",
            " 0   Cylinders     392 non-null    int64  \n",
            " 1   Displacement  392 non-null    float64\n",
            " 2   Horsepower    392 non-null    float64\n",
            " 3   Weight        392 non-null    int64  \n",
            " 4   Acceleration  392 non-null    float64\n",
            " 5   Model Year    392 non-null    int64  \n",
            " 6   Origin        392 non-null    int64  \n",
            " 7   MPG           392 non-null    float64\n",
            "dtypes: float64(4), int64(4)\n",
            "memory usage: 27.6 KB\n"
          ]
        }
      ]
    },
    {
      "cell_type": "code",
      "source": [
        "# feature(독립변수)와 label(종속변수) 지정하기\n",
        "\n",
        "x = dataset.iloc[:, 0:-1]  # feature\n",
        "y = dataset.iloc[:, -1]    # label"
      ],
      "metadata": {
        "id": "m1qy9othjHTu"
      },
      "execution_count": null,
      "outputs": []
    },
    {
      "cell_type": "code",
      "source": [
        "# 독립변수 표준화하기\n",
        "from sklearn.preprocessing  import StandardScaler\n",
        "\n",
        "scaler = StandardScaler()\n",
        "xs = scaler.fit_transform(x)\n",
        "x = pd.DataFrame(xs, columns=x.columns)"
      ],
      "metadata": {
        "id": "I1uZSe6Xjcat"
      },
      "execution_count": null,
      "outputs": []
    },
    {
      "cell_type": "code",
      "source": [
        "# 학습데이터를 독립변수x 종속변수y로 구분하기\n",
        "\n",
        "from sklearn.model_selection import train_test_split\n",
        "train_x, test_x, train_y, test_y = train_test_split(x, y, test_size=0.2) "
      ],
      "metadata": {
        "id": "lceS_rZFjp_U"
      },
      "execution_count": null,
      "outputs": []
    },
    {
      "cell_type": "markdown",
      "source": [
        "3. 인공신경망(ANN) 모델 설계"
      ],
      "metadata": {
        "id": "4jHjproxj6dM"
      }
    },
    {
      "cell_type": "code",
      "source": [
        "from tensorflow.keras.layers import Dense      # 완전연결층 => 가장 기본적인 딥러닝 층\n",
        "from tensorflow.keras.models import Sequential # Keras 패키지의 Model 생성 함수\n",
        "\n",
        "model = Sequential()                                           # Sequential은 layer을 순차적으로 쌓는다\n",
        "model.add(Dense(64,  activation='relu'))                       # Dense (Fully Connected Layer, 완전연결층) 레이어의 입력과 출력을 빠짐없이 모두 연결함. # Node (neuron) 수   # 활성화 함수(activation function) relu (rectified linear unit) 딥러닝에서 가장 많이 사용  \n",
        "model.add(Dense(32, activation='relu'))   \n",
        "model.add(Dense(1))"
      ],
      "metadata": {
        "id": "lfYyVQ9sjy2N"
      },
      "execution_count": null,
      "outputs": []
    },
    {
      "cell_type": "markdown",
      "source": [
        "4. 인공신경망 모델의 손실함수(Loss)와 최적화함수(Optimizer) 설정"
      ],
      "metadata": {
        "id": "1rjt3J7oySFI"
      }
    },
    {
      "cell_type": "code",
      "source": [
        "# 종속변수(Y) = 출력값 => 연속형 숫자 값.\n",
        "\n",
        "# 따라서,\n",
        "\n",
        "# 최적화함수는 Adam\n",
        "# 손실함수는 mse  #mean squared error\n",
        "# 정확도 계산 방식은 Accuracy를 사용 # Accuracy외에도 precision, F1_score 등 설정 가능\n",
        "\n",
        "model.compile(loss='mse', optimizer='adam', metrics=['mse'])\n",
        "# 손실함수(loss function): 예측값과 실제관측값의 차이를 줄이는 방향으로 학습함. 'mse', mean squared error가 많이 사용됨.\n",
        "# 최적화(optimizer), 손실함수를 기반으로 학습방향을 결정함 #adam #rmsprop # sgd(stochastic gradient descent) 등이 사용됨.\n",
        "# 평가지표(metrics), 학습과정을 모니터링함. accuracy(줄여서 acc), mae,   \n"
      ],
      "metadata": {
        "id": "Fd8OjHAVi-19"
      },
      "execution_count": null,
      "outputs": []
    },
    {
      "cell_type": "code",
      "source": [
        "model.summary()"
      ],
      "metadata": {
        "colab": {
          "base_uri": "https://localhost:8080/"
        },
        "id": "cpvdZp7YzNUe",
        "outputId": "243a83ce-ec70-4200-f2ea-055b2a43cc7d"
      },
      "execution_count": null,
      "outputs": [
        {
          "output_type": "stream",
          "name": "stdout",
          "text": [
            "Model: \"sequential\"\n",
            "_________________________________________________________________\n",
            " Layer (type)                Output Shape              Param #   \n",
            "=================================================================\n",
            " dense (Dense)               (None, 14)                112       \n",
            "                                                                 \n",
            " dense_1 (Dense)             (None, 7)                 105       \n",
            "                                                                 \n",
            " dense_2 (Dense)             (None, 1)                 8         \n",
            "                                                                 \n",
            "=================================================================\n",
            "Total params: 225\n",
            "Trainable params: 225\n",
            "Non-trainable params: 0\n",
            "_________________________________________________________________\n"
          ]
        }
      ]
    },
    {
      "cell_type": "markdown",
      "source": [
        "5. 인공신경망 모델 학습 수행"
      ],
      "metadata": {
        "id": "YfgLopV3z32K"
      }
    },
    {
      "cell_type": "code",
      "source": [
        "# 학습은 model.fit으로 할 수 있다.\n",
        "\n",
        "epochs = 10\n",
        "batch_size = 16\n",
        "\n",
        "history = model.fit(train_x, train_y, epochs=epochs, batch_size=batch_size, validation_split=0.3,  verbose=1)"
      ],
      "metadata": {
        "colab": {
          "base_uri": "https://localhost:8080/"
        },
        "id": "NfJbcVIgz1Wp",
        "outputId": "058ad49b-0641-4daf-fcaf-e650b5c4c7e5"
      },
      "execution_count": null,
      "outputs": [
        {
          "output_type": "stream",
          "name": "stdout",
          "text": [
            "Epoch 1/10\n",
            "14/14 [==============================] - 0s 8ms/step - loss: 7.7766 - mse: 7.7766 - val_loss: 9.3996 - val_mse: 9.3996\n",
            "Epoch 2/10\n",
            "14/14 [==============================] - 0s 4ms/step - loss: 7.7497 - mse: 7.7497 - val_loss: 9.5984 - val_mse: 9.5984\n",
            "Epoch 3/10\n",
            "14/14 [==============================] - 0s 4ms/step - loss: 7.6273 - mse: 7.6273 - val_loss: 9.2169 - val_mse: 9.2169\n",
            "Epoch 4/10\n",
            "14/14 [==============================] - 0s 4ms/step - loss: 7.5957 - mse: 7.5957 - val_loss: 9.2688 - val_mse: 9.2688\n",
            "Epoch 5/10\n",
            "14/14 [==============================] - 0s 5ms/step - loss: 7.5409 - mse: 7.5409 - val_loss: 9.3535 - val_mse: 9.3535\n",
            "Epoch 6/10\n",
            "14/14 [==============================] - 0s 6ms/step - loss: 7.5148 - mse: 7.5148 - val_loss: 9.2203 - val_mse: 9.2203\n",
            "Epoch 7/10\n",
            "14/14 [==============================] - 0s 5ms/step - loss: 7.4643 - mse: 7.4643 - val_loss: 9.1784 - val_mse: 9.1784\n",
            "Epoch 8/10\n",
            "14/14 [==============================] - 0s 5ms/step - loss: 7.4316 - mse: 7.4316 - val_loss: 8.8743 - val_mse: 8.8743\n",
            "Epoch 9/10\n",
            "14/14 [==============================] - 0s 5ms/step - loss: 7.4212 - mse: 7.4212 - val_loss: 9.1945 - val_mse: 9.1945\n",
            "Epoch 10/10\n",
            "14/14 [==============================] - 0s 4ms/step - loss: 7.3562 - mse: 7.3562 - val_loss: 8.9968 - val_mse: 8.9968\n"
          ]
        }
      ]
    },
    {
      "cell_type": "markdown",
      "source": [
        "6. 평가 데이터를 통한 예측 및 결과확인"
      ],
      "metadata": {
        "id": "CAa_sfNM0q8n"
      }
    },
    {
      "cell_type": "code",
      "source": [
        "from sklearn.metrics import r2_score, mean_squared_error\n",
        "\n",
        "\n",
        "# 학습 성능 (예측력) 확인하기: R² 와 RMSE (test data)\n",
        "y_pred = model.predict(test_x)\n",
        "R2 = r2_score(test_y, y_pred)    #r2_score(실재값, 예측값)\n",
        "RMSE = mean_squared_error(test_y, y_pred)**(1/2)\n",
        "\n",
        "\n",
        "# 학습 성능 (예측력) 확인하기\n",
        "print('test data 성과평가', R2, RMSE)"
      ],
      "metadata": {
        "colab": {
          "base_uri": "https://localhost:8080/"
        },
        "id": "K8LSTYyI0LQn",
        "outputId": "52972488-360a-4edc-e719-965b000a976b"
      },
      "execution_count": null,
      "outputs": [
        {
          "output_type": "stream",
          "name": "stdout",
          "text": [
            "test data 성과평가 0.8557536710440758 3.1220291933788133\n"
          ]
        }
      ]
    },
    {
      "cell_type": "code",
      "source": [
        "print(test_y[:10])"
      ],
      "metadata": {
        "colab": {
          "base_uri": "https://localhost:8080/"
        },
        "id": "OYC-f5VT1UBR",
        "outputId": "ac5f9aa8-6c30-42bd-ebce-8d821c2e3974"
      },
      "execution_count": null,
      "outputs": [
        {
          "output_type": "stream",
          "name": "stdout",
          "text": [
            "323    27.9\n",
            "61     21.0\n",
            "332    29.8\n",
            "25     10.0\n",
            "167    29.0\n",
            "218    36.0\n",
            "290    15.5\n",
            "2      18.0\n",
            "88     14.0\n",
            "54     35.0\n",
            "Name: MPG, dtype: float64\n"
          ]
        }
      ]
    },
    {
      "cell_type": "code",
      "source": [
        "print(y_pred[:10])"
      ],
      "metadata": {
        "id": "SIjLBOdt1cDd",
        "outputId": "945a6dbe-1f99-492f-8266-6650025baf5f",
        "colab": {
          "base_uri": "https://localhost:8080/"
        }
      },
      "execution_count": null,
      "outputs": [
        {
          "output_type": "stream",
          "name": "stdout",
          "text": [
            "[[24.75269 ]\n",
            " [23.776592]\n",
            " [34.771206]\n",
            " [10.160806]\n",
            " [28.007612]\n",
            " [31.551165]\n",
            " [17.747412]\n",
            " [17.025091]\n",
            " [14.739377]\n",
            " [30.355991]]\n"
          ]
        }
      ]
    }
  ]
}